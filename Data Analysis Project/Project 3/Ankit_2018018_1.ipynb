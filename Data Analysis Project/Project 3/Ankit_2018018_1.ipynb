{
  "nbformat": 4,
  "nbformat_minor": 0,
  "metadata": {
    "colab": {
      "name": "Ankit_2018018_1.ipynb",
      "provenance": [],
      "collapsed_sections": []
    },
    "kernelspec": {
      "display_name": "Python 3",
      "name": "python3"
    },
    "language_info": {
      "name": "python"
    }
  },
  "cells": [
    {
      "cell_type": "code",
      "metadata": {
        "colab": {
          "base_uri": "https://localhost:8080/"
        },
        "id": "xxvuD8MJTBYe",
        "outputId": "24e34819-3bc8-4d71-d0d2-5f04e827a492"
      },
      "source": [
        "from google.colab import drive\n",
        "drive.mount('/content/gdrive')"
      ],
      "execution_count": 85,
      "outputs": [
        {
          "output_type": "stream",
          "text": [
            "Drive already mounted at /content/gdrive; to attempt to forcibly remount, call drive.mount(\"/content/gdrive\", force_remount=True).\n"
          ],
          "name": "stdout"
        }
      ]
    },
    {
      "cell_type": "code",
      "metadata": {
        "colab": {
          "base_uri": "https://localhost:8080/"
        },
        "id": "KyAY4emqTFHd",
        "outputId": "cd12cae6-961e-44c0-f35d-ba3c9775e22d"
      },
      "source": [
        "cd gdrive"
      ],
      "execution_count": 71,
      "outputs": [
        {
          "output_type": "stream",
          "text": [
            "[Errno 2] No such file or directory: 'gdrive'\n",
            "/content/gdrive/MyDrive\n"
          ],
          "name": "stdout"
        }
      ]
    },
    {
      "cell_type": "code",
      "metadata": {
        "colab": {
          "base_uri": "https://localhost:8080/"
        },
        "id": "l8tEXIXQTWd7",
        "outputId": "5a25132d-0394-47a5-9faf-6db6b866d2e3"
      },
      "source": [
        "cd MyDrive"
      ],
      "execution_count": 69,
      "outputs": [
        {
          "output_type": "stream",
          "text": [
            "[Errno 2] No such file or directory: 'MyDrive'\n",
            "/content/gdrive/MyDrive\n"
          ],
          "name": "stdout"
        }
      ]
    },
    {
      "cell_type": "code",
      "metadata": {
        "id": "Pqpn_MGoTXvX"
      },
      "source": [
        "from tweepy import OAuthHandler\n",
        "from tweepy import API\n",
        "import tweepy as tw\n",
        "import numpy as np\n",
        "import plotly.graph_objs as pt\n",
        "import plotly\n",
        "import plotly.express as ex\n",
        "import pandas as pd\n",
        "import re\n",
        "import pickle\n",
        "from textblob import TextBlob"
      ],
      "execution_count": 86,
      "outputs": []
    },
    {
      "cell_type": "code",
      "metadata": {
        "id": "ypBT25hkUEqW"
      },
      "source": [
        "consumer_key=\"\"\n",
        "consumer_secret=\"\"\n",
        "access_token=\"\"\n",
        "access_token_secret=\"\"\n",
        "user=\"\"\n",
        "\n",
        "\n",
        "\n",
        "\n",
        "auth = OAuthHandler(consumer_key, consumer_secret)\n",
        "auth.set_access_token(access_token,access_token_secret)\n",
        "auth_api = API(auth, wait_on_rate_limit=True)\n",
        "\n",
        "\n",
        "timeline = tw.Cursor(auth_api.user_timeline, id=user).items()\n",
        "tweet_list=[]\n",
        "\n",
        "for i in timeline:\n",
        "  tweet=i.text\n",
        "  if(tweet[:2]!=\"RT\"):\n",
        "    tweet_list.append(i)\n",
        "  \n",
        "\n",
        "\n"
      ],
      "execution_count": null,
      "outputs": []
    },
    {
      "cell_type": "code",
      "metadata": {
        "id": "Brf8aqCFVhw0"
      },
      "source": [
        "#writing tweet id and text in a txt file\n",
        "\n",
        "file1= open(\"section_1_tweets_collected.txt\",\"w\")\n",
        "for i in range(len(tweet_list)):\n",
        "  file1.write(str(tweet_list[i].id)+\" \"+tweet_list[i].text+\"\\n\")\n",
        "file1.close()\n"
      ],
      "execution_count": null,
      "outputs": []
    },
    {
      "cell_type": "code",
      "metadata": {
        "id": "H2N8WakTv8F8"
      },
      "source": [
        "re_time=[]\n",
        "c=0\n",
        "reply_tweets=[]\n",
        "for i in tweet_list:\n",
        "  if(i.in_reply_to_status_id!= None and i.in_reply_to_screen_name!= user  ):# and len(i.entities['urls'])!=0\n",
        "    try:\n",
        "     tt=auth_api.get_status(i.in_reply_to_status_id)\n",
        "     reply_tweets.append(tt)\n",
        "     re_time.append([i.created_at,tt.created_at])\n",
        "    except:\n",
        "      c=+1\n",
        "     \n",
        "print(len(re_time))\n",
        "# print(c)\n"
      ],
      "execution_count": null,
      "outputs": []
    },
    {
      "cell_type": "code",
      "metadata": {
        "colab": {
          "base_uri": "https://localhost:8080/"
        },
        "id": "3Vsw22hJt0wG",
        "outputId": "d27f0f42-f6f0-4643-8bcf-b1f0214add7f"
      },
      "source": [
        "print(len(re_time))\n",
        "print(len(reply_tweets))\n",
        "len(tweet_list)"
      ],
      "execution_count": 75,
      "outputs": [
        {
          "output_type": "stream",
          "text": [
            "1743\n",
            "1743\n"
          ],
          "name": "stdout"
        },
        {
          "output_type": "execute_result",
          "data": {
            "text/plain": [
              "2290"
            ]
          },
          "metadata": {
            "tags": []
          },
          "execution_count": 75
        }
      ]
    },
    {
      "cell_type": "code",
      "metadata": {
        "id": "h_Ymrrgtw7lY"
      },
      "source": [
        "# print(reply_tweets[100])\n",
        "#writing reply tweet id and text in a txt file\n",
        "file1= open(\"section_1_reply_tweets_collected.txt\",\"w\")\n",
        "for i in range(len(reply_tweets)):\n",
        "  file1.write(str(reply_tweets[i].id)+\" \"+reply_tweets[i].text+\"\\n\")\n",
        "file1.close()"
      ],
      "execution_count": 76,
      "outputs": []
    },
    {
      "cell_type": "code",
      "metadata": {
        "colab": {
          "base_uri": "https://localhost:8080/"
        },
        "id": "bnJjaA3G_U3-",
        "outputId": "84ab65cc-18c2-4a85-9d56-ba792d521a19"
      },
      "source": [
        "\n",
        "rer_ex=\"\\d{10}\"\n",
        "for i in reply_tweets:\n",
        "  if(re.search(rer_ex, i.text)):\n",
        "    print(\"This tweet contains phone no \",i.text )\n",
        "rer_ex=\"([a-zA-Z0-9_\\.-]+)@([\\da-zA-Z\\.-]+)\\.([a-zA-Z\\.]{2,6})\"\n",
        "for i in reply_tweets:\n",
        "  if(re.search(rer_ex, i.text)):\n",
        "    print(\"This tweet contains mail id \",i.text )\n",
        "rer_ex=\"^[2-9]{1}[0-9]{3}\\\\s[0-9]{4}\\\\s[0-9]{4}$\"\n",
        "for i in reply_tweets:\n",
        "  if(re.search(rer_ex, i.text)):\n",
        "    print(\"This tweet contains Aadharcard no. \",i.text )\n",
        "rer_ex=\"([a-zA-Z]{2})(\\d{2})([a-zA-Z]{2})(\\d{4})\"\n",
        "for i in reply_tweets:\n",
        "  if(re.search(rer_ex, i.text)):\n",
        "    print(\"This tweet contains vehicle no. \",i.text )"
      ],
      "execution_count": 77,
      "outputs": [
        {
          "output_type": "stream",
          "text": [
            "This tweet contains phone no  @MahaCyber1 @AnilSinghvi_ @cpcybd @CPDelhi @PMOIndia \n",
            "9718201526 this number whatsapp calling me from #fraudloanapp… https://t.co/7FKoEfcftH\n",
            "This tweet contains phone no  @MumbaiPolice @CPDelhi @ArvindKejriwal Fraud call from Delhi tel no 1162328900 to give Rs 169890/- toward share of… https://t.co/Ga8EG7l3Bm\n",
            "This tweet contains phone no  @DelhiPolice @CPDelhi @DCP_CCC_Delhi Just got a call from +918877617628. The guy on the other end told me my card i… https://t.co/VfpGfN1HaY\n",
            "This tweet contains phone no  @DCP_CCC_Delhi  @cyber @RBI @pnbindia  I had a fraud  of ₹11000/-  by this fraud no. 8392083406 . On @PhonePe_… https://t.co/Y5L5TAuXpu\n",
            "This tweet contains phone no  Good afternoon.\n",
            "8527958505 .someone is calling  from this no and  message to my wife he is doing  harassment and mo… https://t.co/RPdnEYR2Ap\n",
            "This tweet contains phone no  +917291976238 cash dady का एजैंट घर पर कॉल करके मां बहन की गालियां दे रहा है मुझे घर छोड़ने की धमकी दे रहा है बोल र… https://t.co/9wLx85bjkH\n",
            "This tweet contains phone no  @DelhiPolice sir I'm receiving a whatsapp message from +917439666464. Firstly they were saying that I've won 25 Lac… https://t.co/bzYriJA3bT\n",
            "This tweet contains phone no  @CPDelhi 9127870482-mohit (agent),9127254695-vishal sharma (bank manager),\n",
            "8685874681-ajaypal(advocate) PM mudra gr… https://t.co/dfwWTqJAQb\n",
            "This tweet contains phone no  @CPDelhi @LtGovDelhi @HMOIndia mahfooj Khan ph.9458579930 Sar 1 Sal ho gya police Hamari koi madad nahi krh Bhajanp… https://t.co/XeRKlGKxEH\n",
            "This tweet contains phone no  Kindly Send Forest Dept. Rescue Team to save an injured Peacock at Ghitorni  , Delhi \n",
            "Call 9289891390… https://t.co/R8XCx3F6W1\n",
            "This tweet contains phone no  @DCP_CCC_Delhi @DelhiPolice इस +917351962882 नंबर से हमे फ़ोन आ रहा है। 20000 रुपये फ़ोन पे करने के लिए। आप तुरंत कार्यवाही करे।\n",
            "This tweet contains phone no  @thakares @DelhiPolice @TRAI Any update? I got call.  Accidentally sent some basic docs to 9649591327, but got aler… https://t.co/8fFN0L452A\n",
            "This tweet contains phone no  यह कोई गालीबाज का नं है-  +919953878129 यह लगातार फोन करके गाली दे रहा है, क्योंकि @IndiaSpeaksISD पर चल रहे… https://t.co/IZOKMhVX2k\n",
            "This tweet contains phone no  @passportsevamea\n",
            " @rpodelhi @DelhiPolice  \n",
            "Please share updates for PCC for file number DL1086663650420. EO visited… https://t.co/1XXoM7tEt0\n",
            "This tweet contains phone no  @DCPEastDelhi @cyber @CPDelhi @DelhiPolice  @CMODelhi I have received this message from 9016747171 on whatsapp with… https://t.co/WdAlhyvA9n\n",
            "This tweet contains phone no  @CPDelhi Sir is got a call from MS Mahi 7289934910 n Mr Malhotra 7289012954 claiming to be holding retirement fund… https://t.co/C5xcZK20qu\n",
            "This tweet contains phone no  @DCPSouthDelhi @DelhiPolice @LtGovDelhi . Gambling n match fixing is going on full flash. Mr Kamal Kumar 9999003583… https://t.co/dit3ptEs3d\n",
            "This tweet contains phone no  +917210403468 sir ye number se mujhe blackmail kar raha hai @DelhiPolice @caybercybercrime @DelhiPolice4 Sun bhai t… https://t.co/BuW7wtMP1k\n",
            "This tweet contains phone no  +919711767665 is calling me multiple times and asking for someone antriksh ... And harassing me and saying come to… https://t.co/2gv9My80o6\n",
            "This tweet contains phone no  कृपा करें, और उचित कार्यवाही करें ।\n",
            "\n",
            "महोदय मेरा मोबाइल no 9411866299 है \n",
            "\n",
            " आपका बहुत धन्यवाद।\n",
            "This tweet contains phone no  Fraud alert - Facebook ac copy &amp; asking money\n",
            "\n",
            "8930593176 this is paytm number of fraud who is cloning face book nu… https://t.co/D8Zu3FDhtm\n",
            "This tweet contains phone no  @DelhiPolice @CPDelhi \n",
            "A person from Delhi +919899885163 calling from this number and abusing non stop to my relati… https://t.co/V1sWAhKWKO\n",
            "This tweet contains phone no  @DelhiPolice Dear sir i am a senior citizen and i am getting threatening calls from +919883002868 who are asking fo… https://t.co/GpeOWUU6D2\n",
            "This tweet contains phone no  आज मेरे भाई का मोबाइल चोरी हो गया है दिल्ली में जहांगीरपुरी स्टेशन पे \n",
            "redmi y2 मोबाइल नंबर 9610534156 7891820880… https://t.co/AFOa2pFJZV\n",
            "This tweet contains phone no  @RBI @Early_Salary  @delhipolice @FinMinIndia @akshay_mehrotra Getting harrassment call from +918505841373 , they a… https://t.co/JJEzaJd6AU\n",
            "This tweet contains phone no  @KotakBankLtd @KotakCares @RBI\n",
            "KOTAC MAHINDRA BANK\n",
            "ACC NAME : YANGDUP TAMANG\n",
            "ACC NO.: 4812116270\n",
            "IFSC CODE: KKBK000… https://t.co/0ujPioJIAt\n",
            "This tweet contains phone no  @DelhiPolice Vinod Sharma , mobile no. 9891017212 took my Innova HR55V2548 on a contract for 3 years initially and… https://t.co/e1c2liK8Nx\n",
            "This tweet contains phone no  9899888899. This guy is fraud, takes money online and never delivers the goods. Registered on the name of John Doe. @Delhipolice#Cybercell.\n",
            "This tweet contains phone no  @DelhiPolice \n",
            "This mobile 8967897338 is spamming with valgor massage.\n",
            "Kindly take action against this anti social\n",
            "This tweet contains phone no  Dear @CPDelhi @DelhiPolice the lady from this number 9711861011 harrasing me and my mother with misusing… https://t.co/7KXJCST4TW\n",
            "This tweet contains phone no  Nisha mishra,House no. 53, 2nd floor, gali khajanchi,\n",
            "Chandni chowk delhi-110006\n",
            "M.9999319434\n",
            "महोदय @DelhiPolice… https://t.co/bU7dqP1TGm\n",
            "This tweet contains phone no  @DCP_CCC_Delhi there is an unknown caller calling from 8929038535 to my mother and abusing very badly and cheap man… https://t.co/lWWXaqtuWW\n",
            "This tweet contains phone no  @DCP_CCC_Delhi @DelhiPolice @HMOIndia @DCPSouthDelhi Dear concern, This person Visvajeet (Ph.- 8475913354, 78966932… https://t.co/yWTwAx1WW4\n",
            "This tweet contains phone no  this is the complaint i file on cyber crime portal with acknowledge no. 20807200034751. Please look into this… https://t.co/csxUy1EY4z\n",
            "This tweet contains phone no  @DCPEastDelhi @RajeevKrDP @DelhiPolice @CPDelhi @LtGovDelhi #FIR00081680502000602\n",
            "#DelhiPolice\n",
            "My dad got trapped i… https://t.co/4aeU9nrtFj\n",
            "This tweet contains phone no  @DcpNorthDelhi @DelhiPolice mera bhi Mobile (Redmi Note 5Pro with 6gb 64gb) (IMEI No.864316044201585, 8643160442015… https://t.co/5mRY6mDfNv\n",
            "This tweet contains phone no  @DCPSouthDelhi @CPDelhi @LtGovDelhi @DelhiPolice 9006427324 ; 9955595413 ; this person is also a big fraud cheated… https://t.co/UguGQWdZwq\n",
            "This tweet contains phone no  Missing! \n",
            "\n",
            "Simran Kaur, 15 years\n",
            "10th class \n",
            "Stays in Laxmi nagar.\n",
            "\n",
            "Contact if found : 9958461378 \n",
            "\n",
            "@DelhiPolice… https://t.co/CHYaECpGQd\n",
            "This tweet contains phone no  @DelhiPolice @CPDelhi @LtGovDelhi @HMOIndia Sir pls look into my complaint submitted in Lajpat Nagar police station . Arpit Sadh 9999444397\n",
            "This tweet contains phone no  Got a call from +916291572053 claiming to be from @TheOfficialSBI, Parliament Street regarding my pension account.… https://t.co/22wMSU5Kz2\n",
            "This tweet contains mail id  @AndhraPradeshCM @DelhiPolice \n",
            "george.anagnostou122@gmail.com\n",
            "Fraud mail sending requests to people to purchase Ama… https://t.co/8hTPqKFqx9\n",
            "This tweet contains mail id  @DelhiPolice @CPDelhi R/Sir, I have received the attached document, my email-soni.rajender@gmail.com is wrongly men… https://t.co/jb2vablhGx\n",
            "This tweet contains mail id  I would like to send all the proofs which I've gathered. Reach out to me paidewarashish15@gmail.com please, respond… https://t.co/pHbPJhlpOv\n",
            "This tweet contains vehicle no.  Dil ki police @DelhiPolice \n",
            "UP14CS6695 i20 hit my car at red light. I called the police, pcr HC returned a call. Sh… https://t.co/EL8pvDEy9n\n",
            "This tweet contains vehicle no.  @DelhiPolice @DCPSouthDelhi @delhicrime @DCPNEastDelhi @LtGovDelhi मेरी स्कूटी GJ06DP4260 तैमूर नगर गुरुद्वारा के… https://t.co/0hRmHxcydm\n",
            "This tweet contains vehicle no.  मेरी गाड़ी GJ06DP4260 New friends colony Delhi इलाके से चोरी हो गई लॉकडाउन के समय दिल्ली पुलिस के कड़े चाक चौबंद इं… https://t.co/ZR98EpgzpX\n"
          ],
          "name": "stdout"
        }
      ]
    },
    {
      "cell_type": "code",
      "metadata": {
        "colab": {
          "base_uri": "https://localhost:8080/"
        },
        "id": "Kvu9-ERPxjNc",
        "outputId": "53b7ae75-f07d-46ff-800f-ecdaae8562e6"
      },
      "source": [
        "response_t=[]\n",
        "for i in range(len(re_time)):\n",
        "  response_t.append((re_time[i][0]-re_time[i][1]).seconds/60)\n",
        "response_t[0]"
      ],
      "execution_count": 78,
      "outputs": [
        {
          "output_type": "execute_result",
          "data": {
            "text/plain": [
              "215.1"
            ]
          },
          "metadata": {
            "tags": []
          },
          "execution_count": 78
        }
      ]
    },
    {
      "cell_type": "code",
      "metadata": {
        "colab": {
          "base_uri": "https://localhost:8080/"
        },
        "id": "SmN_TCjMe4mK",
        "outputId": "b317055f-225b-4401-940e-1ba19ff6eeb8"
      },
      "source": [
        "m=[]\n",
        "for i in reply_tweets:\n",
        "    try:\n",
        "      entities = i.entities['media']\n",
        "      m.append(i) \n",
        "    except:\n",
        "      pass\n",
        "print(\"Number of tweets which containing media\")\n",
        "len(m)"
      ],
      "execution_count": 91,
      "outputs": [
        {
          "output_type": "stream",
          "text": [
            "Number of tweets which containing media\n"
          ],
          "name": "stdout"
        },
        {
          "output_type": "execute_result",
          "data": {
            "text/plain": [
              "59"
            ]
          },
          "metadata": {
            "tags": []
          },
          "execution_count": 91
        }
      ]
    },
    {
      "cell_type": "code",
      "metadata": {
        "id": "_IochDIIyuOz",
        "colab": {
          "base_uri": "https://localhost:8080/"
        },
        "outputId": "10077ee5-a0a4-4d90-e654-89bf40dc399e"
      },
      "source": [
        "print(\"Maxmimum reponse time (min)\", np.amax(response_t))\n",
        "print(\"Minimum reponse time (min)\", np.amin(response_t))\n",
        "print(\"Mean reponse time (min)\",np.mean(response_t))\n",
        "print(\"standard deviation of reponse time\", np.std(response_t))"
      ],
      "execution_count": 79,
      "outputs": [
        {
          "output_type": "stream",
          "text": [
            "Maxmimum reponse time (min) 1438.55\n",
            "Minimum reponse time (min) 0.7833333333333333\n",
            "Mean reponse time (min) 423.1117708930962\n",
            "standard deviation of reponse time 430.22786655298194\n"
          ],
          "name": "stdout"
        }
      ]
    },
    {
      "cell_type": "code",
      "metadata": {
        "id": "SgbEzs9Q6gSz"
      },
      "source": [
        "# response_t_date=[]\n",
        "# for i in range(len(re_time)):\n",
        "#   response_t_date.append(re_time[i][0]-re_time[i][1])\n",
        "# response_t_date[0]\n",
        "temp_ar1=[]\n",
        "for i in range(len(re_time)):\n",
        "  temp_ar1.append(re_time[i][0])\n",
        "# temp_ar1[0]\n",
        "# len(temp_ar1)"
      ],
      "execution_count": 80,
      "outputs": []
    },
    {
      "cell_type": "code",
      "metadata": {
        "id": "m1m4oyxj1ajZ",
        "colab": {
          "base_uri": "https://localhost:8080/",
          "height": 596
        },
        "outputId": "a8ade083-c0a6-4dc2-85d2-11fc6f4c9b2e"
      },
      "source": [
        "# temp_ar1 = pd.to_datetime(response_t_date).values\n",
        "date={}\n",
        "for i in range(len(temp_ar1)):\n",
        "  \n",
        "  templ=temp_ar1[i].strftime(\"%x\")\n",
        "  templ = templ[-2:]+\"/\"+templ[:2]+\"/\"+templ[3:5]\n",
        "  if templ in date:\n",
        "    date[templ]+=1\n",
        "  else:\n",
        "    date[templ]=1\n",
        "#date\n",
        "\n",
        "sort_len = sorted(date.items(), key=lambda x: x[0], reverse=False)\n",
        "# print(sort_len)\n",
        "\n",
        "top_words=[]\n",
        "top_frq=[]\n",
        "for i in range(len(sort_len)):\n",
        "  top_frq.append(sort_len[i][1])\n",
        "  top_words.append(sort_len[i][0])\n",
        "print(top_words)\n",
        "print(top_frq)\n",
        "fig = pt.Figure([pt.Scatter(x=top_words, y=top_frq)])\n",
        "fig.show()"
      ],
      "execution_count": 81,
      "outputs": [
        {
          "output_type": "stream",
          "text": [
            "['20/06/09', '20/06/10', '20/06/11', '20/06/12', '20/06/13', '20/06/14', '20/06/15', '20/06/16', '20/06/17', '20/06/18', '20/06/19', '20/06/20', '20/06/22', '20/06/23', '20/06/24', '20/06/25', '20/06/26', '20/06/27', '20/06/29', '20/06/30', '20/07/01', '20/07/02', '20/07/03', '20/07/04', '20/07/06', '20/07/07', '20/07/08', '20/07/09', '20/07/10', '20/07/13', '20/07/14', '20/07/15', '20/07/16', '20/07/17', '20/07/20', '20/07/21', '20/07/22', '20/07/23', '20/07/24', '20/07/25', '20/07/27', '20/07/28', '20/07/29', '20/07/30', '20/07/31', '20/08/04', '20/08/27', '20/09/02', '20/09/04', '20/09/11', '20/09/15', '20/09/16', '20/09/17', '20/09/18', '20/09/19', '20/09/20', '20/09/22', '20/09/23', '20/09/24', '20/09/25', '20/09/26', '20/09/27', '20/09/28', '20/09/29', '20/09/30', '20/10/01', '20/10/03', '20/10/05', '20/10/06', '20/10/07', '20/10/08', '20/10/09', '20/10/14', '20/10/15', '20/10/17', '20/10/22', '20/10/23', '20/10/26', '20/10/27', '20/10/28', '20/10/29', '20/10/30', '20/11/01', '20/11/02', '20/11/03', '20/11/04', '20/11/05', '20/11/06', '20/11/07', '20/11/08', '20/11/09', '20/11/10', '20/11/11', '20/11/12', '20/11/13', '20/11/14', '20/11/16', '20/11/17', '20/11/18', '20/11/19', '20/11/20', '20/11/21', '20/11/22', '20/11/23', '20/11/24', '20/11/25', '20/11/26', '20/11/27', '20/11/28', '20/11/29', '20/11/30', '20/12/01', '20/12/02', '20/12/03', '20/12/04', '20/12/05', '20/12/07', '20/12/08', '20/12/09', '20/12/10', '20/12/11', '20/12/12', '20/12/14', '20/12/15', '20/12/16', '20/12/17', '20/12/18', '20/12/19', '20/12/20', '20/12/22', '20/12/23', '20/12/24', '20/12/27', '20/12/28', '20/12/29', '20/12/30', '21/01/01', '21/01/02', '21/01/03', '21/01/04', '21/01/05', '21/01/06', '21/01/07', '21/01/08', '21/01/09', '21/01/11', '21/01/12', '21/01/13', '21/01/14', '21/01/15', '21/01/16', '21/01/18', '21/01/19', '21/01/20', '21/01/21', '21/01/22', '21/01/23', '21/01/24', '21/01/25', '21/01/26', '21/01/29', '21/04/16', '21/04/17', '21/04/18', '21/04/19']\n",
            "[5, 18, 19, 18, 6, 12, 11, 6, 9, 10, 16, 4, 12, 9, 14, 13, 12, 4, 20, 5, 8, 10, 18, 5, 21, 11, 10, 12, 9, 21, 9, 12, 9, 13, 20, 13, 18, 15, 11, 3, 15, 8, 8, 10, 15, 4, 1, 2, 1, 1, 1, 1, 2, 6, 2, 2, 5, 14, 2, 6, 9, 4, 3, 16, 14, 5, 3, 1, 7, 3, 7, 3, 1, 2, 1, 1, 1, 6, 19, 25, 28, 10, 20, 22, 24, 15, 20, 28, 18, 7, 28, 15, 26, 9, 20, 2, 26, 18, 37, 19, 16, 15, 18, 16, 14, 17, 16, 29, 8, 15, 14, 16, 5, 40, 13, 29, 14, 12, 53, 8, 4, 23, 18, 21, 16, 9, 6, 3, 1, 8, 1, 5, 7, 2, 4, 1, 2, 1, 1, 2, 1, 3, 6, 1, 2, 1, 4, 4, 2, 3, 2, 1, 17, 4, 2, 4, 1, 1, 6, 2, 2, 27, 32, 2, 10]\n"
          ],
          "name": "stdout"
        },
        {
          "output_type": "display_data",
          "data": {
            "text/html": [
              "<html>\n",
              "<head><meta charset=\"utf-8\" /></head>\n",
              "<body>\n",
              "    <div>\n",
              "            <script src=\"https://cdnjs.cloudflare.com/ajax/libs/mathjax/2.7.5/MathJax.js?config=TeX-AMS-MML_SVG\"></script><script type=\"text/javascript\">if (window.MathJax) {MathJax.Hub.Config({SVG: {font: \"STIX-Web\"}});}</script>\n",
              "                <script type=\"text/javascript\">window.PlotlyConfig = {MathJaxConfig: 'local'};</script>\n",
              "        <script src=\"https://cdn.plot.ly/plotly-latest.min.js\"></script>    \n",
              "            <div id=\"678494d7-64fe-4c4f-8f9a-57a0bd05b580\" class=\"plotly-graph-div\" style=\"height:525px; width:100%;\"></div>\n",
              "            <script type=\"text/javascript\">\n",
              "                \n",
              "                    window.PLOTLYENV=window.PLOTLYENV || {};\n",
              "                    \n",
              "                if (document.getElementById(\"678494d7-64fe-4c4f-8f9a-57a0bd05b580\")) {\n",
              "                    Plotly.newPlot(\n",
              "                        '678494d7-64fe-4c4f-8f9a-57a0bd05b580',\n",
              "                        [{\"type\": \"scatter\", \"x\": [\"20/06/09\", \"20/06/10\", \"20/06/11\", \"20/06/12\", \"20/06/13\", \"20/06/14\", \"20/06/15\", \"20/06/16\", \"20/06/17\", \"20/06/18\", \"20/06/19\", \"20/06/20\", \"20/06/22\", \"20/06/23\", \"20/06/24\", \"20/06/25\", \"20/06/26\", \"20/06/27\", \"20/06/29\", \"20/06/30\", \"20/07/01\", \"20/07/02\", \"20/07/03\", \"20/07/04\", \"20/07/06\", \"20/07/07\", \"20/07/08\", \"20/07/09\", \"20/07/10\", \"20/07/13\", \"20/07/14\", \"20/07/15\", \"20/07/16\", \"20/07/17\", \"20/07/20\", \"20/07/21\", \"20/07/22\", \"20/07/23\", \"20/07/24\", \"20/07/25\", \"20/07/27\", \"20/07/28\", \"20/07/29\", \"20/07/30\", \"20/07/31\", \"20/08/04\", \"20/08/27\", \"20/09/02\", \"20/09/04\", \"20/09/11\", \"20/09/15\", \"20/09/16\", \"20/09/17\", \"20/09/18\", \"20/09/19\", \"20/09/20\", \"20/09/22\", \"20/09/23\", \"20/09/24\", \"20/09/25\", \"20/09/26\", \"20/09/27\", \"20/09/28\", \"20/09/29\", \"20/09/30\", \"20/10/01\", \"20/10/03\", \"20/10/05\", \"20/10/06\", \"20/10/07\", \"20/10/08\", \"20/10/09\", \"20/10/14\", \"20/10/15\", \"20/10/17\", \"20/10/22\", \"20/10/23\", \"20/10/26\", \"20/10/27\", \"20/10/28\", \"20/10/29\", \"20/10/30\", \"20/11/01\", \"20/11/02\", \"20/11/03\", \"20/11/04\", \"20/11/05\", \"20/11/06\", \"20/11/07\", \"20/11/08\", \"20/11/09\", \"20/11/10\", \"20/11/11\", \"20/11/12\", \"20/11/13\", \"20/11/14\", \"20/11/16\", \"20/11/17\", \"20/11/18\", \"20/11/19\", \"20/11/20\", \"20/11/21\", \"20/11/22\", \"20/11/23\", \"20/11/24\", \"20/11/25\", \"20/11/26\", \"20/11/27\", \"20/11/28\", \"20/11/29\", \"20/11/30\", \"20/12/01\", \"20/12/02\", \"20/12/03\", \"20/12/04\", \"20/12/05\", \"20/12/07\", \"20/12/08\", \"20/12/09\", \"20/12/10\", \"20/12/11\", \"20/12/12\", \"20/12/14\", \"20/12/15\", \"20/12/16\", \"20/12/17\", \"20/12/18\", \"20/12/19\", \"20/12/20\", \"20/12/22\", \"20/12/23\", \"20/12/24\", \"20/12/27\", \"20/12/28\", \"20/12/29\", \"20/12/30\", \"21/01/01\", \"21/01/02\", \"21/01/03\", \"21/01/04\", \"21/01/05\", \"21/01/06\", \"21/01/07\", \"21/01/08\", \"21/01/09\", \"21/01/11\", \"21/01/12\", \"21/01/13\", \"21/01/14\", \"21/01/15\", \"21/01/16\", \"21/01/18\", \"21/01/19\", \"21/01/20\", \"21/01/21\", \"21/01/22\", \"21/01/23\", \"21/01/24\", \"21/01/25\", \"21/01/26\", \"21/01/29\", \"21/04/16\", \"21/04/17\", \"21/04/18\", \"21/04/19\"], \"y\": [5, 18, 19, 18, 6, 12, 11, 6, 9, 10, 16, 4, 12, 9, 14, 13, 12, 4, 20, 5, 8, 10, 18, 5, 21, 11, 10, 12, 9, 21, 9, 12, 9, 13, 20, 13, 18, 15, 11, 3, 15, 8, 8, 10, 15, 4, 1, 2, 1, 1, 1, 1, 2, 6, 2, 2, 5, 14, 2, 6, 9, 4, 3, 16, 14, 5, 3, 1, 7, 3, 7, 3, 1, 2, 1, 1, 1, 6, 19, 25, 28, 10, 20, 22, 24, 15, 20, 28, 18, 7, 28, 15, 26, 9, 20, 2, 26, 18, 37, 19, 16, 15, 18, 16, 14, 17, 16, 29, 8, 15, 14, 16, 5, 40, 13, 29, 14, 12, 53, 8, 4, 23, 18, 21, 16, 9, 6, 3, 1, 8, 1, 5, 7, 2, 4, 1, 2, 1, 1, 2, 1, 3, 6, 1, 2, 1, 4, 4, 2, 3, 2, 1, 17, 4, 2, 4, 1, 1, 6, 2, 2, 27, 32, 2, 10]}],\n",
              "                        {\"template\": {\"data\": {\"bar\": [{\"error_x\": {\"color\": \"#2a3f5f\"}, \"error_y\": {\"color\": \"#2a3f5f\"}, \"marker\": {\"line\": {\"color\": \"#E5ECF6\", \"width\": 0.5}}, \"type\": \"bar\"}], \"barpolar\": [{\"marker\": {\"line\": {\"color\": \"#E5ECF6\", \"width\": 0.5}}, \"type\": \"barpolar\"}], \"carpet\": [{\"aaxis\": {\"endlinecolor\": \"#2a3f5f\", \"gridcolor\": \"white\", \"linecolor\": \"white\", \"minorgridcolor\": \"white\", \"startlinecolor\": \"#2a3f5f\"}, \"baxis\": {\"endlinecolor\": \"#2a3f5f\", \"gridcolor\": \"white\", \"linecolor\": \"white\", \"minorgridcolor\": \"white\", \"startlinecolor\": \"#2a3f5f\"}, \"type\": \"carpet\"}], \"choropleth\": [{\"colorbar\": {\"outlinewidth\": 0, \"ticks\": \"\"}, \"type\": \"choropleth\"}], \"contour\": [{\"colorbar\": {\"outlinewidth\": 0, \"ticks\": \"\"}, \"colorscale\": [[0.0, \"#0d0887\"], [0.1111111111111111, \"#46039f\"], [0.2222222222222222, \"#7201a8\"], [0.3333333333333333, \"#9c179e\"], [0.4444444444444444, \"#bd3786\"], [0.5555555555555556, \"#d8576b\"], [0.6666666666666666, \"#ed7953\"], [0.7777777777777778, \"#fb9f3a\"], [0.8888888888888888, \"#fdca26\"], [1.0, \"#f0f921\"]], \"type\": \"contour\"}], \"contourcarpet\": [{\"colorbar\": {\"outlinewidth\": 0, \"ticks\": \"\"}, \"type\": \"contourcarpet\"}], \"heatmap\": [{\"colorbar\": {\"outlinewidth\": 0, \"ticks\": \"\"}, \"colorscale\": [[0.0, \"#0d0887\"], [0.1111111111111111, \"#46039f\"], [0.2222222222222222, \"#7201a8\"], [0.3333333333333333, \"#9c179e\"], [0.4444444444444444, \"#bd3786\"], [0.5555555555555556, \"#d8576b\"], [0.6666666666666666, \"#ed7953\"], [0.7777777777777778, \"#fb9f3a\"], [0.8888888888888888, \"#fdca26\"], [1.0, \"#f0f921\"]], \"type\": \"heatmap\"}], \"heatmapgl\": [{\"colorbar\": {\"outlinewidth\": 0, \"ticks\": \"\"}, \"colorscale\": [[0.0, \"#0d0887\"], [0.1111111111111111, \"#46039f\"], [0.2222222222222222, \"#7201a8\"], [0.3333333333333333, \"#9c179e\"], [0.4444444444444444, \"#bd3786\"], [0.5555555555555556, \"#d8576b\"], [0.6666666666666666, \"#ed7953\"], [0.7777777777777778, \"#fb9f3a\"], [0.8888888888888888, \"#fdca26\"], [1.0, \"#f0f921\"]], \"type\": \"heatmapgl\"}], \"histogram\": [{\"marker\": {\"colorbar\": {\"outlinewidth\": 0, \"ticks\": \"\"}}, \"type\": \"histogram\"}], \"histogram2d\": [{\"colorbar\": {\"outlinewidth\": 0, \"ticks\": \"\"}, \"colorscale\": [[0.0, \"#0d0887\"], [0.1111111111111111, \"#46039f\"], [0.2222222222222222, \"#7201a8\"], [0.3333333333333333, \"#9c179e\"], [0.4444444444444444, \"#bd3786\"], [0.5555555555555556, \"#d8576b\"], [0.6666666666666666, \"#ed7953\"], [0.7777777777777778, \"#fb9f3a\"], [0.8888888888888888, \"#fdca26\"], [1.0, \"#f0f921\"]], \"type\": \"histogram2d\"}], \"histogram2dcontour\": [{\"colorbar\": {\"outlinewidth\": 0, \"ticks\": \"\"}, \"colorscale\": [[0.0, \"#0d0887\"], [0.1111111111111111, \"#46039f\"], [0.2222222222222222, \"#7201a8\"], [0.3333333333333333, \"#9c179e\"], [0.4444444444444444, \"#bd3786\"], [0.5555555555555556, \"#d8576b\"], [0.6666666666666666, \"#ed7953\"], [0.7777777777777778, \"#fb9f3a\"], [0.8888888888888888, \"#fdca26\"], [1.0, \"#f0f921\"]], \"type\": \"histogram2dcontour\"}], \"mesh3d\": [{\"colorbar\": {\"outlinewidth\": 0, \"ticks\": \"\"}, \"type\": \"mesh3d\"}], \"parcoords\": [{\"line\": {\"colorbar\": {\"outlinewidth\": 0, \"ticks\": \"\"}}, \"type\": \"parcoords\"}], \"pie\": [{\"automargin\": true, \"type\": \"pie\"}], \"scatter\": [{\"marker\": {\"colorbar\": {\"outlinewidth\": 0, \"ticks\": \"\"}}, \"type\": \"scatter\"}], \"scatter3d\": [{\"line\": {\"colorbar\": {\"outlinewidth\": 0, \"ticks\": \"\"}}, \"marker\": {\"colorbar\": {\"outlinewidth\": 0, \"ticks\": \"\"}}, \"type\": \"scatter3d\"}], \"scattercarpet\": [{\"marker\": {\"colorbar\": {\"outlinewidth\": 0, \"ticks\": \"\"}}, \"type\": \"scattercarpet\"}], \"scattergeo\": [{\"marker\": {\"colorbar\": {\"outlinewidth\": 0, \"ticks\": \"\"}}, \"type\": \"scattergeo\"}], \"scattergl\": [{\"marker\": {\"colorbar\": {\"outlinewidth\": 0, \"ticks\": \"\"}}, \"type\": \"scattergl\"}], \"scattermapbox\": [{\"marker\": {\"colorbar\": {\"outlinewidth\": 0, \"ticks\": \"\"}}, \"type\": \"scattermapbox\"}], \"scatterpolar\": [{\"marker\": {\"colorbar\": {\"outlinewidth\": 0, \"ticks\": \"\"}}, \"type\": \"scatterpolar\"}], \"scatterpolargl\": [{\"marker\": {\"colorbar\": {\"outlinewidth\": 0, \"ticks\": \"\"}}, \"type\": \"scatterpolargl\"}], \"scatterternary\": [{\"marker\": {\"colorbar\": {\"outlinewidth\": 0, \"ticks\": \"\"}}, \"type\": \"scatterternary\"}], \"surface\": [{\"colorbar\": {\"outlinewidth\": 0, \"ticks\": \"\"}, \"colorscale\": [[0.0, \"#0d0887\"], [0.1111111111111111, \"#46039f\"], [0.2222222222222222, \"#7201a8\"], [0.3333333333333333, \"#9c179e\"], [0.4444444444444444, \"#bd3786\"], [0.5555555555555556, \"#d8576b\"], [0.6666666666666666, \"#ed7953\"], [0.7777777777777778, \"#fb9f3a\"], [0.8888888888888888, \"#fdca26\"], [1.0, \"#f0f921\"]], \"type\": \"surface\"}], \"table\": [{\"cells\": {\"fill\": {\"color\": \"#EBF0F8\"}, \"line\": {\"color\": \"white\"}}, \"header\": {\"fill\": {\"color\": \"#C8D4E3\"}, \"line\": {\"color\": \"white\"}}, \"type\": \"table\"}]}, \"layout\": {\"annotationdefaults\": {\"arrowcolor\": \"#2a3f5f\", \"arrowhead\": 0, \"arrowwidth\": 1}, \"coloraxis\": {\"colorbar\": {\"outlinewidth\": 0, \"ticks\": \"\"}}, \"colorscale\": {\"diverging\": [[0, \"#8e0152\"], [0.1, \"#c51b7d\"], [0.2, \"#de77ae\"], [0.3, \"#f1b6da\"], [0.4, \"#fde0ef\"], [0.5, \"#f7f7f7\"], [0.6, \"#e6f5d0\"], [0.7, \"#b8e186\"], [0.8, \"#7fbc41\"], [0.9, \"#4d9221\"], [1, \"#276419\"]], \"sequential\": [[0.0, \"#0d0887\"], [0.1111111111111111, \"#46039f\"], [0.2222222222222222, \"#7201a8\"], [0.3333333333333333, \"#9c179e\"], [0.4444444444444444, \"#bd3786\"], [0.5555555555555556, \"#d8576b\"], [0.6666666666666666, \"#ed7953\"], [0.7777777777777778, \"#fb9f3a\"], [0.8888888888888888, \"#fdca26\"], [1.0, \"#f0f921\"]], \"sequentialminus\": [[0.0, \"#0d0887\"], [0.1111111111111111, \"#46039f\"], [0.2222222222222222, \"#7201a8\"], [0.3333333333333333, \"#9c179e\"], [0.4444444444444444, \"#bd3786\"], [0.5555555555555556, \"#d8576b\"], [0.6666666666666666, \"#ed7953\"], [0.7777777777777778, \"#fb9f3a\"], [0.8888888888888888, \"#fdca26\"], [1.0, \"#f0f921\"]]}, \"colorway\": [\"#636efa\", \"#EF553B\", \"#00cc96\", \"#ab63fa\", \"#FFA15A\", \"#19d3f3\", \"#FF6692\", \"#B6E880\", \"#FF97FF\", \"#FECB52\"], \"font\": {\"color\": \"#2a3f5f\"}, \"geo\": {\"bgcolor\": \"white\", \"lakecolor\": \"white\", \"landcolor\": \"#E5ECF6\", \"showlakes\": true, \"showland\": true, \"subunitcolor\": \"white\"}, \"hoverlabel\": {\"align\": \"left\"}, \"hovermode\": \"closest\", \"mapbox\": {\"style\": \"light\"}, \"paper_bgcolor\": \"white\", \"plot_bgcolor\": \"#E5ECF6\", \"polar\": {\"angularaxis\": {\"gridcolor\": \"white\", \"linecolor\": \"white\", \"ticks\": \"\"}, \"bgcolor\": \"#E5ECF6\", \"radialaxis\": {\"gridcolor\": \"white\", \"linecolor\": \"white\", \"ticks\": \"\"}}, \"scene\": {\"xaxis\": {\"backgroundcolor\": \"#E5ECF6\", \"gridcolor\": \"white\", \"gridwidth\": 2, \"linecolor\": \"white\", \"showbackground\": true, \"ticks\": \"\", \"zerolinecolor\": \"white\"}, \"yaxis\": {\"backgroundcolor\": \"#E5ECF6\", \"gridcolor\": \"white\", \"gridwidth\": 2, \"linecolor\": \"white\", \"showbackground\": true, \"ticks\": \"\", \"zerolinecolor\": \"white\"}, \"zaxis\": {\"backgroundcolor\": \"#E5ECF6\", \"gridcolor\": \"white\", \"gridwidth\": 2, \"linecolor\": \"white\", \"showbackground\": true, \"ticks\": \"\", \"zerolinecolor\": \"white\"}}, \"shapedefaults\": {\"line\": {\"color\": \"#2a3f5f\"}}, \"ternary\": {\"aaxis\": {\"gridcolor\": \"white\", \"linecolor\": \"white\", \"ticks\": \"\"}, \"baxis\": {\"gridcolor\": \"white\", \"linecolor\": \"white\", \"ticks\": \"\"}, \"bgcolor\": \"#E5ECF6\", \"caxis\": {\"gridcolor\": \"white\", \"linecolor\": \"white\", \"ticks\": \"\"}}, \"title\": {\"x\": 0.05}, \"xaxis\": {\"automargin\": true, \"gridcolor\": \"white\", \"linecolor\": \"white\", \"ticks\": \"\", \"title\": {\"standoff\": 15}, \"zerolinecolor\": \"white\", \"zerolinewidth\": 2}, \"yaxis\": {\"automargin\": true, \"gridcolor\": \"white\", \"linecolor\": \"white\", \"ticks\": \"\", \"title\": {\"standoff\": 15}, \"zerolinecolor\": \"white\", \"zerolinewidth\": 2}}}},\n",
              "                        {\"responsive\": true}\n",
              "                    ).then(function(){\n",
              "                            \n",
              "var gd = document.getElementById('678494d7-64fe-4c4f-8f9a-57a0bd05b580');\n",
              "var x = new MutationObserver(function (mutations, observer) {{\n",
              "        var display = window.getComputedStyle(gd).display;\n",
              "        if (!display || display === 'none') {{\n",
              "            console.log([gd, 'removed!']);\n",
              "            Plotly.purge(gd);\n",
              "            observer.disconnect();\n",
              "        }}\n",
              "}});\n",
              "\n",
              "// Listen for the removal of the full notebook cells\n",
              "var notebookContainer = gd.closest('#notebook-container');\n",
              "if (notebookContainer) {{\n",
              "    x.observe(notebookContainer, {childList: true});\n",
              "}}\n",
              "\n",
              "// Listen for the clearing of the current output cell\n",
              "var outputEl = gd.closest('.output');\n",
              "if (outputEl) {{\n",
              "    x.observe(outputEl, {childList: true});\n",
              "}}\n",
              "\n",
              "                        })\n",
              "                };\n",
              "                \n",
              "            </script>\n",
              "        </div>\n",
              "</body>\n",
              "</html>"
            ]
          },
          "metadata": {
            "tags": []
          }
        }
      ]
    },
    {
      "cell_type": "code",
      "metadata": {
        "id": "vWrnYiaG6Kzi"
      },
      "source": [
        "with open('police_tweets.pickle', 'wb') as write:\n",
        "    pickle.dump(tweet_list, write, protocol=pickle.HIGHEST_PROTOCOL) \n",
        "with open('police_reply_tweets.pickle', 'wb') as write: \n",
        "    pickle.dump(reply_tweets, write, protocol=pickle.HIGHEST_PROTOCOL)\n",
        "with open('police_reply_time.pickle', 'wb') as write: \n",
        "    pickle.dump(re_time, write, protocol=pickle.HIGHEST_PROTOCOL) "
      ],
      "execution_count": 82,
      "outputs": []
    },
    {
      "cell_type": "code",
      "metadata": {
        "id": "gTj-TkkmFFBR",
        "colab": {
          "base_uri": "https://localhost:8080/"
        },
        "outputId": "dc97c952-a80d-46b4-bbd0-6a20ac83239b"
      },
      "source": [
        "# with open('police_reply_tweets.pickle', 'rb') as read: #reading the saved dict \n",
        "#     reply_tweets = pickle.load(read)\n",
        "\n",
        "# print(reply_tweets[0].text)\n",
        "# with open('police_tweets.pickle', 'rb') as read: #reading the saved dict \n",
        "#     tweet_list = pickle.load(read)\n",
        "\n",
        "# print(tweet_list[0].text)\n",
        "# with open('police_reply_time.pickle', 'rb') as read: #reading the saved dict \n",
        "#     re_time = pickle.load(read)\n",
        "\n",
        "# print(re_time[0])"
      ],
      "execution_count": 87,
      "outputs": [
        {
          "output_type": "stream",
          "text": [
            "@DelhiPolice @CPDelhi \n",
            "Hi, I have my visa appointment scheduled at US Embassy for tomorrow (20th April 17:00 hrs)… https://t.co/D15p8k4KQY\n",
            "@shubhams11111 @CPDelhi Thank you for contacting #DilKiPolice\n",
            "It is advised to confirm whether date of appointment… https://t.co/dcoqt6cEyJ\n",
            "[datetime.datetime(2021, 4, 19, 10, 7, 44), datetime.datetime(2021, 4, 19, 6, 32, 38)]\n"
          ],
          "name": "stdout"
        }
      ]
    },
    {
      "cell_type": "code",
      "metadata": {
        "id": "n-xPb4LyKodk"
      },
      "source": [
        "# df = pd.DataFrame(tweetlist1, columns=['id','text','in_reply_to_status_id','created_at','in_reply_to_screen_name'])\n",
        "# print(df);\n"
      ],
      "execution_count": 84,
      "outputs": []
    },
    {
      "cell_type": "code",
      "metadata": {
        "id": "BUFE9I3Kfuff"
      },
      "source": [
        "\n",
        "cr_rep = []\n",
        "app = []\n",
        "req = []\n",
        "acc=[]\n",
        "for i in range(len(reply_tweets)):\n",
        "  sent = TextBlob(reply_tweets[i].text).sentiment.polarity\n",
        "  if(sent<.3 and sent>0):\n",
        "    acc.append(reply_tweets[i].text)\n",
        "  if(sent >0.3 and sent<0.5):\n",
        "    app.append(reply_tweets[i].text)\n",
        "  if (sent < -0.5):\n",
        "    cr_rep.append(reply_tweets[i].text)\n",
        "  if(sent> -0.2 and sent < 0.2):\n",
        "    req.append(reply_tweets[i].text) "
      ],
      "execution_count": 109,
      "outputs": []
    },
    {
      "cell_type": "code",
      "metadata": {
        "colab": {
          "base_uri": "https://localhost:8080/"
        },
        "id": "Lc7ApQEOgEra",
        "outputId": "4019882a-9dd3-4516-8057-28f0dac24651"
      },
      "source": [
        "print(len(cr_rep))\n",
        "print(len(app))\n",
        "print(len(req))\n",
        "print(len(acc))"
      ],
      "execution_count": 110,
      "outputs": [
        {
          "output_type": "stream",
          "text": [
            "18\n",
            "23\n",
            "1441\n",
            "229\n"
          ],
          "name": "stdout"
        }
      ]
    },
    {
      "cell_type": "code",
      "metadata": {
        "colab": {
          "base_uri": "https://localhost:8080/"
        },
        "id": "K5KL4G7ggYbd",
        "outputId": "68fb44f7-d5a9-4b90-fafe-09e0aa313d2c"
      },
      "source": [
        "cr_rep[:10]#printing 10 crime reported category tweets\n"
      ],
      "execution_count": 111,
      "outputs": [
        {
          "output_type": "execute_result",
          "data": {
            "text/plain": [
              "['We are very afraid with #DelhiPolice  that we logged a complaint against dowry but Delhi police is not responding o… https://t.co/h5gIc11FN8',\n",
              " 'Disappointed by @noidapolice, i walked to them for help yesterday night but they refused to help. Just because I am… https://t.co/C0fUusGKA2',\n",
              " \"@CPDelhi Sir its insane behavior of this guy\\n\\nGive him half of what he given to poor dog, let's see what he is goin… https://t.co/yz4MxKBFEO\",\n",
              " 'LNJP hospital delhi has been giving worst treatment to Covid patients, my father-in-law dies today (Nandlal Batra)… https://t.co/KINqOO6XnS',\n",
              " \"'United Against Hate' have opened kitchens in Delhi to ensure that no one goes hungry at the #FarmersProtests.\\n\\nFor… https://t.co/Geb2Exrtq1\",\n",
              " '@DelhiPolice Raised a complaint for cyber fraud..No response till now..Huge Disappointment!!!',\n",
              " 'Corona Timebomb ticking as Connaught Place badly invaded by IllegalHawkers putting our shops,staff &amp; shoppers at ri… https://t.co/mmqWn0K6XE',\n",
              " 'How stupid can someone get. These are waiting death traps. Whosoever installed them should be booked for attempt to… https://t.co/iA91tijHWR',\n",
              " '@CMODelhi @ArvindKejriwal @Delhi_Pollution @DelhiPolice this is really disgusting act of notorious elements who hav… https://t.co/8zcvqJjuKD',\n",
              " '@DelhiPolice see the fire burning behind E2 Vasant Kunj by Mahipalpur villagers !!! https://t.co/EjbVgsVmbk']"
            ]
          },
          "metadata": {
            "tags": []
          },
          "execution_count": 111
        }
      ]
    },
    {
      "cell_type": "code",
      "metadata": {
        "id": "sG5c-UW9hr3_",
        "colab": {
          "base_uri": "https://localhost:8080/"
        },
        "outputId": "3a73ef18-9514-41a4-8c41-06afeb335e77"
      },
      "source": [
        "app[:10]#printing 10 appreciation category tweets"
      ],
      "execution_count": 112,
      "outputs": [
        {
          "output_type": "execute_result",
          "data": {
            "text/plain": [
              "['@DelhiPolice I have a confirmed train ticket to travel from Delhi railway station tomorrow evening. Do I indeed e-p… https://t.co/vf3gW41mWS',\n",
              " '@DCPNWestDelhi @CPDelhi more than 50 hawkers parked illegally on main muni mayaram jain marg pitampura opp PD Block… https://t.co/N8WoWoDwjg',\n",
              " '@DCPSouthDelhi @DelhiPolice @CPDelhi @LtGovDelhi . As request u to kindly take strict action against the gambling n… https://t.co/yAbxM5veux',\n",
              " '@tarun10sharma @LtGovDelhi @CPDelhi @SChoudharyIPS @HMOIndia @DCPNewDelhi @cp_delhi @SinghalEishIPS Lucky owners..… https://t.co/kzdIMOfUAh',\n",
              " '@DCPSouthDelhi @DelhiPolice @LtGovDelhi . Gambling n match fixing is going on full flash. Mr Kamal Kumar 9999003583… https://t.co/dit3ptEs3d',\n",
              " '@DCP_CCC_Delhi @LtGovDelhi @CPDelhi @DelhiPolice @Cyberdost Is this really true that you take actions against such… https://t.co/dAkOKxsvqb',\n",
              " '@Hazimsaeed6 @taslimanasreen @amazonIN @DelhiPolice @Delhipolice are you sleeping 😑  kindly take strict action agai… https://t.co/If8q7GdlU2',\n",
              " '@ArvindKejriwal @SatyendarJain @DelhiPolice @CPDelhi Respected all, people are not wearing masks specially in the s… https://t.co/hZFii0MRaw',\n",
              " '@DelhiPolice Famous in creating their own parallel reality !👏 Could be invaluable as writers of web-series.🤪 https://t.co/3nCm7k7Dfl',\n",
              " '@DelhiPolice @DM_NorthWest @LtGovDelhi @RBI @PMOIndia @nsitharaman @Gupta_vijender kindly take the strict action as… https://t.co/Q2xwQmyWAS']"
            ]
          },
          "metadata": {
            "tags": []
          },
          "execution_count": 112
        }
      ]
    },
    {
      "cell_type": "code",
      "metadata": {
        "colab": {
          "base_uri": "https://localhost:8080/"
        },
        "id": "UfkwL-MOuJkY",
        "outputId": "a0c52e64-2f04-44e2-9b04-9654c5d0c439"
      },
      "source": [
        "req[:10]#printing 10 requested category tweets"
      ],
      "execution_count": 113,
      "outputs": [
        {
          "output_type": "execute_result",
          "data": {
            "text/plain": [
              "['@DelhiPolice @CPDelhi \\nHi, I have my visa appointment scheduled at US Embassy for tomorrow (20th April 17:00 hrs)… https://t.co/D15p8k4KQY',\n",
              " 'Delhi: How to apply online for weekend curfew movement pass https://t.co/DQyUitnUAM @ArvindKejriwal @DelhiPolice @AAPDelhi @CMODelhi',\n",
              " 'Please Help ..\\nHow i get Pass For Merrige after some days My Sister wedding And i need Passes For My Relatives Plea… https://t.co/oVhtGT7dhx',\n",
              " 'If someone has to receive their relatives at airport then What will be needed them like e pass or which type of per… https://t.co/HGRMVK1Qmt',\n",
              " '@dtptraffic @DelhiPolice सर कल सुबह 6 बजे train है। दिल्ली में कल से lockdown है hum टिकट दिखा कर जा सकते हैं क्या?… https://t.co/KktRcHlcVz',\n",
              " '@ArvindKejriwal sir, please confirm if any curfew pass will be required for going and coming back from delhi airpor… https://t.co/Ov8crG4QIO',\n",
              " \"@srinivasiyc @sosiyc @AamAadmiParty\\n @DelhiPolice @dilipkpandey @GautamGambhir\\nMy neighbour's elderly mother reside… https://t.co/GcEAqrJ9Kq\",\n",
              " 'Please advise wether gyms will closed till 30Apr or only on weekend @DelhiPolice',\n",
              " '@dtptraffic @DelhiPolice Can I travel to New Delhi Railway Station during lockdown to drop my family member as they… https://t.co/j1tEOgq3Ro',\n",
              " '#DelhifightsCoronawithoutKejriwal #DelhiPolice #ArvindKejriwal #HarshVardhan  me weekend carfu me chemist shop open… https://t.co/4ryeNLetz3']"
            ]
          },
          "metadata": {
            "tags": []
          },
          "execution_count": 113
        }
      ]
    },
    {
      "cell_type": "code",
      "metadata": {
        "colab": {
          "base_uri": "https://localhost:8080/"
        },
        "id": "kvS9rrcGuLg1",
        "outputId": "61d41b91-3008-43d3-d4c3-0636f03a9877"
      },
      "source": [
        "acc[:10]#printing 10 accountabillity category tweets"
      ],
      "execution_count": 114,
      "outputs": [
        {
          "output_type": "execute_result",
          "data": {
            "text/plain": [
              "['@dtptraffic @DelhiPolice Can I travel to New Delhi Railway Station during lockdown to drop my family member as they… https://t.co/j1tEOgq3Ro',\n",
              " '@DelhiPolice @dtptraffic Dear Sir,\\nIs it possible to drop family person to New Delhi railway station Sunday evening… https://t.co/j8RPlGvAwC',\n",
              " '@DelhiPolice This number showing busy from last 30 min.',\n",
              " '@DelhiPolice 🙏नमस्ते DilKiPolice.Sir i work in Embassy of France New Delhi. Yesterday my uncle had been died in Deh… https://t.co/qmnLOEDfw6',\n",
              " '@DcpWestern @CPDelhi @LtGovDelhi \\nSo many trucks are unnecessarily parked at road side Khaira Village (Khimmi Mandi… https://t.co/QzwHErrR8b',\n",
              " \"@ShobhnaYadava @CPDelhi @DelhiPolice Maam I'm 66yr old senior citizen.Pls help @OmaxeLimited has since last 7 years… https://t.co/prtzT0qLYy\",\n",
              " 'Just had experience of delhi police nonsense behaviour in CP by an sub inspector totally deshi young man no any man… https://t.co/9e515S9V5i',\n",
              " '@DelhiPolice I want to bring your kind attention that a road in Dwarka sector 2 is closed since May2020 is very inc… https://t.co/qThgqr7wQP',\n",
              " 'Tenant house p-45a, krishan vihar, pooth kalan, new delhi. Owner of house retired last year ASI delhi police suraj… https://t.co/8fmeBGHaOu',\n",
              " 'House p-45a, krishan vihar, primary MCD school, pooth kalan, new delhi tenant kushboo she day and night abusing sen… https://t.co/0JxcxHD8Vx']"
            ]
          },
          "metadata": {
            "tags": []
          },
          "execution_count": 114
        }
      ]
    },
    {
      "cell_type": "code",
      "metadata": {
        "id": "LTOrKysVuVHv"
      },
      "source": [
        ""
      ],
      "execution_count": null,
      "outputs": []
    }
  ]
}