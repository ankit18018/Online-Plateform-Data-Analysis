{
  "nbformat": 4,
  "nbformat_minor": 0,
  "metadata": {
    "colab": {
      "name": "Ankit_2018018_2.ipynb",
      "provenance": [],
      "collapsed_sections": []
    },
    "kernelspec": {
      "name": "python3",
      "display_name": "Python 3"
    },
    "language_info": {
      "name": "python"
    }
  },
  "cells": [
    {
      "cell_type": "code",
      "metadata": {
        "colab": {
          "base_uri": "https://localhost:8080/"
        },
        "id": "bmggwlGxsurh",
        "outputId": "0bd9b440-e296-4b47-95d8-653bdb3ab037"
      },
      "source": [
        "from google.colab import drive\n",
        "drive.mount('/content/gdrive')"
      ],
      "execution_count": 2,
      "outputs": [
        {
          "output_type": "stream",
          "text": [
            "Mounted at /content/gdrive\n"
          ],
          "name": "stdout"
        }
      ]
    },
    {
      "cell_type": "code",
      "metadata": {
        "colab": {
          "base_uri": "https://localhost:8080/"
        },
        "id": "gIe4ejnlsyNq",
        "outputId": "5787c93d-0e61-4e4c-d857-d2504bc00a1d"
      },
      "source": [
        "cd gdrive\n"
      ],
      "execution_count": 3,
      "outputs": [
        {
          "output_type": "stream",
          "text": [
            "/content/gdrive\n"
          ],
          "name": "stdout"
        }
      ]
    },
    {
      "cell_type": "code",
      "metadata": {
        "colab": {
          "base_uri": "https://localhost:8080/"
        },
        "id": "hK4Gmu2OtMrx",
        "outputId": "f6d0fc60-e9fe-4820-a43b-c6abb49c3ce1"
      },
      "source": [
        "cd MyDrive"
      ],
      "execution_count": 4,
      "outputs": [
        {
          "output_type": "stream",
          "text": [
            "/content/gdrive/MyDrive\n"
          ],
          "name": "stdout"
        }
      ]
    },
    {
      "cell_type": "code",
      "metadata": {
        "id": "EAJqacMmtNoN"
      },
      "source": [
        "from tweepy import OAuthHandler\n",
        "from tweepy import API\n",
        "import tweepy as tw\n",
        "import numpy as np\n",
        "import plotly.graph_objs as pt\n",
        "import plotly\n",
        "import plotly.express as ex\n",
        "import pandas as pd\n",
        "import re\n",
        "import pickle\n",
        "import matplotlib.pyplot as mp"
      ],
      "execution_count": 5,
      "outputs": []
    },
    {
      "cell_type": "code",
      "metadata": {
        "id": "2xIThin2uSJv"
      },
      "source": [
        "consumer_key=\"\"\n",
        "consumer_secret=\"\"\n",
        "access_token=\"\"\n",
        "access_token_secret=\"\"\n",
        "user=\"DelhiPolice\"\n",
        "\n",
        "\n",
        "\n",
        "\n",
        "auth = OAuthHandler(consumer_key, consumer_secret)\n",
        "auth.set_access_token(access_token,access_token_secret)\n",
        "auth_api = API(auth, wait_on_rate_limit=True)"
      ],
      "execution_count": null,
      "outputs": []
    },
    {
      "cell_type": "code",
      "metadata": {
        "colab": {
          "base_uri": "https://localhost:8080/"
        },
        "id": "xu5s0_lCuXmU",
        "outputId": "90fda6d0-b54c-4643-961d-147dd561936f"
      },
      "source": [
        "trend_place=auth_api.trends_place(23424848)\n",
        "trend_place=trend_place[0]['trends'][:10]\n",
        "c=0\n",
        "\n",
        "for i in trend_place:\n",
        "  print(i['name'])\n",
        "  if(c==0):\n",
        "    prom_hast=i['name']\n",
        "    c+=1\n",
        "# print(prom_hast)"
      ],
      "execution_count": null,
      "outputs": [
        {
          "output_type": "stream",
          "text": [
            "#CSKvRR\n",
            "Dhoni\n",
            "#VaccineForAll\n",
            "#ManmohanSingh\n",
            "Help Like Sushant\n",
            "#HBDTeluguPrideCBN\n",
            "McDonald\n",
            "#HAPPY_BIRTH_JAY\n",
            "Thala\n",
            "Sam Curran\n"
          ],
          "name": "stdout"
        }
      ]
    },
    {
      "cell_type": "code",
      "metadata": {
        "id": "xASErF3kvel2"
      },
      "source": [
        "trend_tweets=[]\n",
        "c=0\n",
        "for i, j in enumerate(tw.Cursor(auth_api.search,q=prom_hast).items()):\n",
        "  c+=1\n",
        "  trend_tweets.append(j)\n",
        "  if(c>999):\n",
        "    break"
      ],
      "execution_count": null,
      "outputs": []
    },
    {
      "cell_type": "code",
      "metadata": {
        "id": "gkYctcuyvrJk"
      },
      "source": [
        "file1= open(\"section_2_trends_tweets_collected.txt\",\"w\")\n",
        "for i in range(len(trend_tweets)):\n",
        "  file1.write(str(trend_tweets[i].id)+\" \"+trend_tweets[i].text+\"\\n\")\n",
        "file1.close()"
      ],
      "execution_count": 14,
      "outputs": []
    },
    {
      "cell_type": "code",
      "metadata": {
        "id": "abWOAWLQx_cN"
      },
      "source": [
        "hast=[]\n",
        "for i in range(len(trend_tweets)):\n",
        "  s=trend_tweets[i].text.split(\" \")\n",
        "  if(len(s)>0):\n",
        "\n",
        "    for j in range(len(s)):\n",
        "      if(len(s[j])>0):\n",
        "        s[j]=s[j].lower()\n",
        "        if(s[j][0]==\"#\"):\n",
        "          if(prom_hast not in s[j] and \"\\n\" not in s[j]):\n",
        "            hast.append(s[j])\n",
        "\n"
      ],
      "execution_count": null,
      "outputs": []
    },
    {
      "cell_type": "code",
      "metadata": {
        "colab": {
          "base_uri": "https://localhost:8080/"
        },
        "id": "nxpa35EzyVEX",
        "outputId": "effa1027-e225-4096-c60c-c023d507275d"
      },
      "source": [
        "hast_count={}\n",
        "for i in range(len(hast)):\n",
        "  \n",
        "  if hast[i] in hast_count:\n",
        "    hast_count[hast[i]]+=1\n",
        "  else:\n",
        "    hast_count[hast[i]]=1\n",
        "sort_hast = sorted(hast_count.items(), key=lambda x: x[1], reverse=True)[1:11]\n",
        "sort_hast"
      ],
      "execution_count": null,
      "outputs": [
        {
          "output_type": "execute_result",
          "data": {
            "text/plain": [
              "[('#yellove', 451),\n",
              " ('#cskvrr', 299),\n",
              " ('#ipl2021', 116),\n",
              " ('#csk', 37),\n",
              " ('#royalsfamily', 25),\n",
              " ('#whistles', 16),\n",
              " ('#hallabol', 14),\n",
              " ('#master', 13),\n",
              " ('#rr', 12),\n",
              " ('#vivoipl', 11)]"
            ]
          },
          "metadata": {
            "tags": []
          },
          "execution_count": 15
        }
      ]
    },
    {
      "cell_type": "code",
      "metadata": {
        "id": "5C4Uzg8D0Sdo"
      },
      "source": [
        "tophast_json=[]\n",
        "for k in sort_hast:\n",
        "  trend_tweets=[]\n",
        "  c=0\n",
        "  for i, j in enumerate(tw.Cursor(auth_api.search,q=k[0]).items()):\n",
        "    c+=1\n",
        "    trend_tweets.append(j)\n",
        "    if(c>99):\n",
        "     break\n",
        "  tophast_json.append(trend_tweets)"
      ],
      "execution_count": null,
      "outputs": []
    },
    {
      "cell_type": "code",
      "metadata": {
        "id": "28p9pkJZIUe7"
      },
      "source": [
        "with open('tophast_json.pickle', 'wb') as write:\n",
        "    pickle.dump(tophast_json, write, protocol=pickle.HIGHEST_PROTOCOL) \n",
        "with open('trend_tweets.pickle', 'wb') as write:\n",
        "    pickle.dump(trend_tweets, write, protocol=pickle.HIGHEST_PROTOCOL)\n",
        "with open('trend_place.pickle', 'wb') as write:\n",
        "    pickle.dump(trend_place, write, protocol=pickle.HIGHEST_PROTOCOL)"
      ],
      "execution_count": null,
      "outputs": []
    },
    {
      "cell_type": "code",
      "metadata": {
        "id": "BzCd1Amy3f7K"
      },
      "source": [
        "# with open('tophast_json.pickle', 'rb') as read: \n",
        "#     tophast_json = pickle.load(read)\n",
        "# with open('trend_tweets.pickle', 'rb') as read:  \n",
        "#     trend_tweets = pickle.load(read)\n",
        "# with open('trend_place.pickle', 'rb') as read:\n",
        "#     trend_place = pickle.load(read)\n"
      ],
      "execution_count": 6,
      "outputs": []
    },
    {
      "cell_type": "code",
      "metadata": {
        "colab": {
          "base_uri": "https://localhost:8080/"
        },
        "id": "4pl89SBLHpu3",
        "outputId": "dca0b082-bc65-4383-ef75-39f5002553c8"
      },
      "source": [
        "t=[]\n",
        "for i in tophast_json:\n",
        "  for j in i:\n",
        "    t.append(j)\n",
        "file1= open(\"section_2_tweets_collected.txt\",\"w\")\n",
        "for i in range(len(t)):\n",
        "  file1.write(str(t[i].id)+\" \"+t[i].text+\"\\n\")\n",
        "file1.close()\n",
        "print(len(t))"
      ],
      "execution_count": 15,
      "outputs": [
        {
          "output_type": "stream",
          "text": [
            "1000\n"
          ],
          "name": "stdout"
        }
      ]
    },
    {
      "cell_type": "code",
      "metadata": {
        "id": "KXqvoOFstPFv"
      },
      "source": [
        "def cof(h,tophast_json):\n",
        "  tweet=[]\n",
        "  r=0\n",
        "  for i in tophast_json:\n",
        "    for j in i:\n",
        "      text=j.text.lower()\n",
        "      if(h in text):\n",
        "        tweet.append(j)\n",
        "  for i in tweet:\n",
        "    if(i.text[:2]==\"RT\"):\n",
        "      r+=1\n",
        "  r=r/len(tweet)*100\n",
        "\n",
        "  #########\n",
        "  f=0\n",
        "  top50={}\n",
        "  for i in tweet:\n",
        "    if(i.user.id in top50):\n",
        "      top50[i.user.id]+=1\n",
        "    else:\n",
        "      top50[i.user.id]=1\n",
        "  sort_top50 = sorted(top50.items(), key=lambda x: x[1], reverse=True)\n",
        "  try:\n",
        "    sort_top50=sort_top50[:50]\n",
        "  except:\n",
        "    sort_top50=sort_top50\n",
        "  tweetsBy50Users = 0\n",
        "  for i in sort_top50:\n",
        "    tweetsBy50Users += i[1]\n",
        "  \n",
        "  f = tweetsBy50Users/len(tweet)*100\n",
        "\n",
        "  u = len(tweet) / len(top50)\n",
        "\n",
        "  c = r/10 + f + u\n",
        "  \n",
        "  return r,f,u,c\n",
        "\n",
        "  \n",
        "  \n",
        "\n",
        "  \n",
        "\n",
        "\n"
      ],
      "execution_count": 23,
      "outputs": []
    },
    {
      "cell_type": "code",
      "metadata": {
        "colab": {
          "base_uri": "https://localhost:8080/",
          "height": 430
        },
        "id": "-ZE3l6DZC-Mz",
        "outputId": "a611a8aa-64b5-4133-8be1-c9baf5120ff4"
      },
      "source": [
        "most_occ=[]\n",
        "for i in tophast_json:\n",
        "  for j in i:\n",
        "    s=j.text.split(\" \")\n",
        "    if(len(s)>0):\n",
        "\n",
        "      for j in range(len(s)):\n",
        "       if(len(s[j])>0):\n",
        "         s[j]=s[j].lower()\n",
        "         if(s[j][0]==\"#\"):\n",
        "           if(\"\\n\" not in s[j]):\n",
        "             most_occ.append(s[j])\n",
        "\n",
        "most_occ_count={}\n",
        "for i in range(len(most_occ)):\n",
        "  \n",
        "  if most_occ[i] in most_occ_count:\n",
        "    most_occ_count[most_occ[i]]+=1\n",
        "  else:\n",
        "    most_occ_count[most_occ[i]]=1\n",
        "sort_hast = sorted(most_occ_count.items(), key=lambda x: x[1], reverse=True)[1:11]\n",
        "# sort_hast\n",
        "  \n",
        "\n",
        "top_words=[]\n",
        "top_frq=[]\n",
        "for i in range(len(sort_hast)):\n",
        "  top_frq.append(sort_hast[i][1])\n",
        "  top_words.append(sort_hast[i][0])\n",
        "\n",
        "r=[]\n",
        "f=[]\n",
        "u=[]\n",
        "c=[]\n",
        "for i in top_words:\n",
        "  ro,fo,uo,co=cof(i,tophast_json)\n",
        "  r.append(ro)\n",
        "  f.append(fo)\n",
        "  u.append(uo)\n",
        "  c.append(co)\n",
        "\n",
        "  # c.append())\n",
        "\n",
        "\n",
        "\n",
        "print(top_words)\n",
        "\n",
        "# print(\"coefficient of traffic manipulation\\n\",c)\n",
        "\n",
        "\n",
        "print('Number of occurence\\n',top_frq)\n",
        "mp.bar(top_words, top_frq,color='r', align = 'center', alpha = 0.5)\n",
        "mp.ylabel('Number of occurence')\n",
        "mp.xlabel('Top 10 #tags on number of occurences')\n",
        "mp.xticks(top_words)\n",
        "mp.xticks(rotation = 90)\n",
        "mp.title(\" Q1 (1) plot\")\n",
        "mp.show()\n",
        "\n",
        "# print(cof(\"#yellove\",tophast_json))"
      ],
      "execution_count": 34,
      "outputs": [
        {
          "output_type": "stream",
          "text": [
            "['#yellove', '#cskvrr', '#ipl2021', '#csk', '#royalsfamily', '#rr', '#whistles', '#hallabol', '#rrvcsk', '#thalapathy65']\n",
            "Number of occurence\n",
            " [271, 223, 147, 143, 122, 104, 102, 54, 52, 46]\n"
          ],
          "name": "stdout"
        },
        {
          "output_type": "display_data",
          "data": {
            "image/png": "[encoded data removed]",
            "text/plain": [
              "<Figure size 432x288 with 1 Axes>"
            ]
          },
          "metadata": {
            "tags": [],
            "needs_background": "light"
          }
        }
      ]
    },
    {
      "cell_type": "code",
      "metadata": {
        "colab": {
          "base_uri": "https://localhost:8080/",
          "height": 215
        },
        "id": "WGZMcv9HkvIZ",
        "outputId": "1d04d6f9-459f-4b6d-d8cb-1f1ec31ac077"
      },
      "source": [
        "df = pd.DataFrame([top_words,r,f,u,c])\n",
        "df\n"
      ],
      "execution_count": 37,
      "outputs": [
        {
          "output_type": "execute_result",
          "data": {
            "text/html": [
              "<div>\n",
              "<style scoped>\n",
              "    .dataframe tbody tr th:only-of-type {\n",
              "        vertical-align: middle;\n",
              "    }\n",
              "\n",
              "    .dataframe tbody tr th {\n",
              "        vertical-align: top;\n",
              "    }\n",
              "\n",
              "    .dataframe thead th {\n",
              "        text-align: right;\n",
              "    }\n",
              "</style>\n",
              "<table border=\"1\" class=\"dataframe\">\n",
              "  <thead>\n",
              "    <tr style=\"text-align: right;\">\n",
              "      <th></th>\n",
              "      <th>0</th>\n",
              "      <th>1</th>\n",
              "      <th>2</th>\n",
              "      <th>3</th>\n",
              "      <th>4</th>\n",
              "      <th>5</th>\n",
              "      <th>6</th>\n",
              "      <th>7</th>\n",
              "      <th>8</th>\n",
              "      <th>9</th>\n",
              "    </tr>\n",
              "  </thead>\n",
              "  <tbody>\n",
              "    <tr>\n",
              "      <th>0</th>\n",
              "      <td>#yellove</td>\n",
              "      <td>#cskvrr</td>\n",
              "      <td>#ipl2021</td>\n",
              "      <td>#csk</td>\n",
              "      <td>#royalsfamily</td>\n",
              "      <td>#rr</td>\n",
              "      <td>#whistles</td>\n",
              "      <td>#hallabol</td>\n",
              "      <td>#rrvcsk</td>\n",
              "      <td>#thalapathy65</td>\n",
              "    </tr>\n",
              "    <tr>\n",
              "      <th>1</th>\n",
              "      <td>97.8182</td>\n",
              "      <td>81.2727</td>\n",
              "      <td>50.9709</td>\n",
              "      <td>71.9941</td>\n",
              "      <td>96.8944</td>\n",
              "      <td>49.3243</td>\n",
              "      <td>100</td>\n",
              "      <td>91.1111</td>\n",
              "      <td>70.1754</td>\n",
              "      <td>89.0909</td>\n",
              "    </tr>\n",
              "    <tr>\n",
              "      <th>2</th>\n",
              "      <td>40</td>\n",
              "      <td>31.2727</td>\n",
              "      <td>56.3107</td>\n",
              "      <td>26.6862</td>\n",
              "      <td>86.3354</td>\n",
              "      <td>60.1351</td>\n",
              "      <td>50.9804</td>\n",
              "      <td>78.3333</td>\n",
              "      <td>100</td>\n",
              "      <td>100</td>\n",
              "    </tr>\n",
              "    <tr>\n",
              "      <th>3</th>\n",
              "      <td>1.27907</td>\n",
              "      <td>1.51515</td>\n",
              "      <td>1.54887</td>\n",
              "      <td>1.46667</td>\n",
              "      <td>2.23611</td>\n",
              "      <td>1.3578</td>\n",
              "      <td>1.02</td>\n",
              "      <td>2.06897</td>\n",
              "      <td>1.54054</td>\n",
              "      <td>1.96429</td>\n",
              "    </tr>\n",
              "    <tr>\n",
              "      <th>4</th>\n",
              "      <td>51.0609</td>\n",
              "      <td>40.9152</td>\n",
              "      <td>62.9566</td>\n",
              "      <td>35.3523</td>\n",
              "      <td>98.261</td>\n",
              "      <td>66.4254</td>\n",
              "      <td>62.0004</td>\n",
              "      <td>89.5134</td>\n",
              "      <td>108.558</td>\n",
              "      <td>110.873</td>\n",
              "    </tr>\n",
              "  </tbody>\n",
              "</table>\n",
              "</div>"
            ],
            "text/plain": [
              "          0        1         2  ...          7        8              9\n",
              "0  #yellove  #cskvrr  #ipl2021  ...  #hallabol  #rrvcsk  #thalapathy65\n",
              "1   97.8182  81.2727   50.9709  ...    91.1111  70.1754        89.0909\n",
              "2        40  31.2727   56.3107  ...    78.3333      100            100\n",
              "3   1.27907  1.51515   1.54887  ...    2.06897  1.54054        1.96429\n",
              "4   51.0609  40.9152   62.9566  ...    89.5134  108.558        110.873\n",
              "\n",
              "[5 rows x 10 columns]"
            ]
          },
          "metadata": {
            "tags": []
          },
          "execution_count": 37
        }
      ]
    },
    {
      "cell_type": "code",
      "metadata": {
        "colab": {
          "base_uri": "https://localhost:8080/",
          "height": 426
        },
        "id": "uq66vYe3G2fL",
        "outputId": "0d930386-ccb3-4f0c-ee88-f9559e6b246f"
      },
      "source": [
        "most_likes={}\n",
        "for i in tophast_json:\n",
        "  for j in i:\n",
        "    s=j.text.split(\" \")\n",
        "    if(len(s)>0):\n",
        "\n",
        "      for k in range(len(s)):\n",
        "       if(len(s[k])>0):\n",
        "         s[k]=s[k].lower()\n",
        "         if(s[k][0]==\"#\"):\n",
        "           if( \"\\n\" not in s[k]):\n",
        "            #  most_occ.append(s[j])\n",
        "            if s[k] in most_likes:\n",
        "              most_likes[s[k]]+=j.favorite_count\n",
        "            else:\n",
        "              most_likes[s[k]]=j.favorite_count\n",
        "sort_hast = sorted(most_likes.items(), key=lambda x: x[1], reverse=True)[1:11]\n",
        "# sort_hast\n",
        "\n",
        "\n",
        "top_words=[]\n",
        "top_frq=[]\n",
        "for i in range(len(sort_hast)):\n",
        "  top_frq.append(sort_hast[i][1])\n",
        "  top_words.append(sort_hast[i][0])\n",
        "r=[]\n",
        "f=[]\n",
        "u=[]\n",
        "c=[]\n",
        "for i in top_words:\n",
        "  ro,fo,uo,co=cof(i,tophast_json)\n",
        "  r.append(ro)\n",
        "  f.append(fo)\n",
        "  u.append(uo)\n",
        "  c.append(co)\n",
        "\n",
        "  # c.append())\n",
        "\n",
        "print(top_words)\n",
        "\n",
        "# print(\"coefficient of traffic manipulation\\n\",c)\n",
        "\n",
        "\n",
        "print('Number of occurence\\n',top_frq)\n",
        "mp.bar(top_words, top_frq,color='r', align = 'center', alpha = 0.5)\n",
        "mp.ylabel('Number of occurence')\n",
        "mp.xlabel('Top 10 #tags on number of likes')\n",
        "mp.xticks(top_words)\n",
        "mp.xticks(rotation = 90)\n",
        "mp.title(\" Q1 (2) plot\")\n",
        "mp.show()\n",
        "\n"
      ],
      "execution_count": 38,
      "outputs": [
        {
          "output_type": "stream",
          "text": [
            "['#royalsfamily', '#vivoipl', '#ipl2021', '#rr', '#csk', '#ipl2021…', '#rrvcsk', '#whistlepodu', '#cskvsrr', '#msdhoni']\n",
            "Number of occurence\n",
            " [1175, 392, 295, 72, 30, 9, 7, 4, 4, 3]\n"
          ],
          "name": "stdout"
        },
        {
          "output_type": "display_data",
          "data": {
            "image/png": "[encoded data removed]",
            "text/plain": [
              "<Figure size 432x288 with 1 Axes>"
            ]
          },
          "metadata": {
            "tags": [],
            "needs_background": "light"
          }
        }
      ]
    },
    {
      "cell_type": "code",
      "metadata": {
        "colab": {
          "base_uri": "https://localhost:8080/",
          "height": 215
        },
        "id": "u7TZeIZ3l4GJ",
        "outputId": "46f3d0ae-dd5c-461a-ff8f-818f83603ab4"
      },
      "source": [
        "df = pd.DataFrame([top_words,r,f,u,c])\n",
        "df"
      ],
      "execution_count": 39,
      "outputs": [
        {
          "output_type": "execute_result",
          "data": {
            "text/html": [
              "<div>\n",
              "<style scoped>\n",
              "    .dataframe tbody tr th:only-of-type {\n",
              "        vertical-align: middle;\n",
              "    }\n",
              "\n",
              "    .dataframe tbody tr th {\n",
              "        vertical-align: top;\n",
              "    }\n",
              "\n",
              "    .dataframe thead th {\n",
              "        text-align: right;\n",
              "    }\n",
              "</style>\n",
              "<table border=\"1\" class=\"dataframe\">\n",
              "  <thead>\n",
              "    <tr style=\"text-align: right;\">\n",
              "      <th></th>\n",
              "      <th>0</th>\n",
              "      <th>1</th>\n",
              "      <th>2</th>\n",
              "      <th>3</th>\n",
              "      <th>4</th>\n",
              "      <th>5</th>\n",
              "      <th>6</th>\n",
              "      <th>7</th>\n",
              "      <th>8</th>\n",
              "      <th>9</th>\n",
              "    </tr>\n",
              "  </thead>\n",
              "  <tbody>\n",
              "    <tr>\n",
              "      <th>0</th>\n",
              "      <td>#royalsfamily</td>\n",
              "      <td>#vivoipl</td>\n",
              "      <td>#ipl2021</td>\n",
              "      <td>#rr</td>\n",
              "      <td>#csk</td>\n",
              "      <td>#ipl2021…</td>\n",
              "      <td>#rrvcsk</td>\n",
              "      <td>#whistlepodu</td>\n",
              "      <td>#cskvsrr</td>\n",
              "      <td>#msdhoni</td>\n",
              "    </tr>\n",
              "    <tr>\n",
              "      <th>1</th>\n",
              "      <td>96.8944</td>\n",
              "      <td>63.6364</td>\n",
              "      <td>50.9709</td>\n",
              "      <td>49.3243</td>\n",
              "      <td>71.9941</td>\n",
              "      <td>0</td>\n",
              "      <td>70.1754</td>\n",
              "      <td>95.1389</td>\n",
              "      <td>30.303</td>\n",
              "      <td>35.7143</td>\n",
              "    </tr>\n",
              "    <tr>\n",
              "      <th>2</th>\n",
              "      <td>86.3354</td>\n",
              "      <td>84.8485</td>\n",
              "      <td>56.3107</td>\n",
              "      <td>60.1351</td>\n",
              "      <td>26.6862</td>\n",
              "      <td>100</td>\n",
              "      <td>100</td>\n",
              "      <td>38.1944</td>\n",
              "      <td>100</td>\n",
              "      <td>100</td>\n",
              "    </tr>\n",
              "    <tr>\n",
              "      <th>3</th>\n",
              "      <td>2.23611</td>\n",
              "      <td>1.1</td>\n",
              "      <td>1.54887</td>\n",
              "      <td>1.3578</td>\n",
              "      <td>1.46667</td>\n",
              "      <td>2</td>\n",
              "      <td>1.54054</td>\n",
              "      <td>1.26316</td>\n",
              "      <td>1.22222</td>\n",
              "      <td>1.75</td>\n",
              "    </tr>\n",
              "    <tr>\n",
              "      <th>4</th>\n",
              "      <td>98.261</td>\n",
              "      <td>92.3121</td>\n",
              "      <td>62.9566</td>\n",
              "      <td>66.4254</td>\n",
              "      <td>35.3523</td>\n",
              "      <td>102</td>\n",
              "      <td>108.558</td>\n",
              "      <td>48.9715</td>\n",
              "      <td>104.253</td>\n",
              "      <td>105.321</td>\n",
              "    </tr>\n",
              "  </tbody>\n",
              "</table>\n",
              "</div>"
            ],
            "text/plain": [
              "               0         1         2  ...             7         8         9\n",
              "0  #royalsfamily  #vivoipl  #ipl2021  ...  #whistlepodu  #cskvsrr  #msdhoni\n",
              "1        96.8944   63.6364   50.9709  ...       95.1389    30.303   35.7143\n",
              "2        86.3354   84.8485   56.3107  ...       38.1944       100       100\n",
              "3        2.23611       1.1   1.54887  ...       1.26316   1.22222      1.75\n",
              "4         98.261   92.3121   62.9566  ...       48.9715   104.253   105.321\n",
              "\n",
              "[5 rows x 10 columns]"
            ]
          },
          "metadata": {
            "tags": []
          },
          "execution_count": 39
        }
      ]
    },
    {
      "cell_type": "code",
      "metadata": {
        "colab": {
          "base_uri": "https://localhost:8080/",
          "height": 426
        },
        "id": "HOkCsZL8KDae",
        "outputId": "7a745e73-f96a-43b3-bdf9-5ae3a4d8dad5"
      },
      "source": [
        "most_likes={}\n",
        "for i in tophast_json:\n",
        "  for j in i:\n",
        "    s=j.text.split(\" \")\n",
        "    if(len(s)>0):\n",
        "\n",
        "      for k in range(len(s)):\n",
        "       if(len(s[k])>0):\n",
        "         s[k]=s[k].lower()\n",
        "         if(s[k][0]==\"#\"):\n",
        "           if( \"\\n\" not in s[k]):\n",
        "            #  most_occ.append(s[j])\n",
        "            if s[k] in most_likes:\n",
        "              most_likes[s[k]]+=j.retweet_count\n",
        "            else:\n",
        "              most_likes[s[k]]=j.retweet_count\n",
        "sort_hast = sorted(most_likes.items(), key=lambda x: x[1], reverse=True)[1:11]\n",
        "# sort_hast\n",
        "\n",
        "\n",
        "top_words=[]\n",
        "top_frq=[]\n",
        "for i in range(len(sort_hast)):\n",
        "  top_frq.append(sort_hast[i][1])\n",
        "  top_words.append(sort_hast[i][0])\n",
        "\n",
        "r=[]\n",
        "f=[]\n",
        "u=[]\n",
        "c=[]\n",
        "for i in top_words:\n",
        "  ro,fo,uo,co=cof(i,tophast_json)\n",
        "  r.append(ro)\n",
        "  f.append(fo)\n",
        "  u.append(uo)\n",
        "  c.append(co)\n",
        "\n",
        "  # c.append())\n",
        "\n",
        "print(top_words)\n",
        "\n",
        "# print(\"coefficient of traffic manipulation\\n\",c)\n",
        "\n",
        "\n",
        "print('Number of occurence\\n',top_frq)\n",
        "mp.bar(top_words, top_frq,color='r', align = 'center', alpha = 0.5)\n",
        "mp.ylabel('Number of occurence')\n",
        "mp.xlabel('Top 10 #tags on number of retweets')\n",
        "mp.xticks(top_words)\n",
        "mp.xticks(rotation = 90)\n",
        "mp.title(\" Q1 (3) plot\")\n",
        "mp.show()\n"
      ],
      "execution_count": 40,
      "outputs": [
        {
          "output_type": "stream",
          "text": [
            "['#whistlepodu', '#ipl2021', '#hallabol', '#whistles', '#cskvrr', '#csk', '#royalsfamily', '#master', '#fanof…', '#rr']\n",
            "Number of occurence\n",
            " [80510, 63352, 54868, 36293, 9487, 6443, 5250, 5225, 5066, 4795]\n"
          ],
          "name": "stdout"
        },
        {
          "output_type": "display_data",
          "data": {
            "image/png": "[encoded data removed]",
            "text/plain": [
              "<Figure size 432x288 with 1 Axes>"
            ]
          },
          "metadata": {
            "tags": [],
            "needs_background": "light"
          }
        }
      ]
    },
    {
      "cell_type": "code",
      "metadata": {
        "id": "qngnCiWrOdrk",
        "colab": {
          "base_uri": "https://localhost:8080/",
          "height": 215
        },
        "outputId": "3a4e8564-bf1c-4974-8723-77432f95a9b7"
      },
      "source": [
        "df = pd.DataFrame([top_words,r,f,u,c])\n",
        "df"
      ],
      "execution_count": 41,
      "outputs": [
        {
          "output_type": "execute_result",
          "data": {
            "text/html": [
              "<div>\n",
              "<style scoped>\n",
              "    .dataframe tbody tr th:only-of-type {\n",
              "        vertical-align: middle;\n",
              "    }\n",
              "\n",
              "    .dataframe tbody tr th {\n",
              "        vertical-align: top;\n",
              "    }\n",
              "\n",
              "    .dataframe thead th {\n",
              "        text-align: right;\n",
              "    }\n",
              "</style>\n",
              "<table border=\"1\" class=\"dataframe\">\n",
              "  <thead>\n",
              "    <tr style=\"text-align: right;\">\n",
              "      <th></th>\n",
              "      <th>0</th>\n",
              "      <th>1</th>\n",
              "      <th>2</th>\n",
              "      <th>3</th>\n",
              "      <th>4</th>\n",
              "      <th>5</th>\n",
              "      <th>6</th>\n",
              "      <th>7</th>\n",
              "      <th>8</th>\n",
              "      <th>9</th>\n",
              "    </tr>\n",
              "  </thead>\n",
              "  <tbody>\n",
              "    <tr>\n",
              "      <th>0</th>\n",
              "      <td>#whistlepodu</td>\n",
              "      <td>#ipl2021</td>\n",
              "      <td>#hallabol</td>\n",
              "      <td>#whistles</td>\n",
              "      <td>#cskvrr</td>\n",
              "      <td>#csk</td>\n",
              "      <td>#royalsfamily</td>\n",
              "      <td>#master</td>\n",
              "      <td>#fanof…</td>\n",
              "      <td>#rr</td>\n",
              "    </tr>\n",
              "    <tr>\n",
              "      <th>1</th>\n",
              "      <td>95.1389</td>\n",
              "      <td>50.9709</td>\n",
              "      <td>91.1111</td>\n",
              "      <td>100</td>\n",
              "      <td>81.2727</td>\n",
              "      <td>71.9941</td>\n",
              "      <td>96.8944</td>\n",
              "      <td>93.8144</td>\n",
              "      <td>100</td>\n",
              "      <td>49.3243</td>\n",
              "    </tr>\n",
              "    <tr>\n",
              "      <th>2</th>\n",
              "      <td>38.1944</td>\n",
              "      <td>56.3107</td>\n",
              "      <td>78.3333</td>\n",
              "      <td>50.9804</td>\n",
              "      <td>31.2727</td>\n",
              "      <td>26.6862</td>\n",
              "      <td>86.3354</td>\n",
              "      <td>100</td>\n",
              "      <td>100</td>\n",
              "      <td>60.1351</td>\n",
              "    </tr>\n",
              "    <tr>\n",
              "      <th>3</th>\n",
              "      <td>1.26316</td>\n",
              "      <td>1.54887</td>\n",
              "      <td>2.06897</td>\n",
              "      <td>1.02</td>\n",
              "      <td>1.51515</td>\n",
              "      <td>1.46667</td>\n",
              "      <td>2.23611</td>\n",
              "      <td>2.425</td>\n",
              "      <td>10</td>\n",
              "      <td>1.3578</td>\n",
              "    </tr>\n",
              "    <tr>\n",
              "      <th>4</th>\n",
              "      <td>48.9715</td>\n",
              "      <td>62.9566</td>\n",
              "      <td>89.5134</td>\n",
              "      <td>62.0004</td>\n",
              "      <td>40.9152</td>\n",
              "      <td>35.3523</td>\n",
              "      <td>98.261</td>\n",
              "      <td>111.806</td>\n",
              "      <td>120</td>\n",
              "      <td>66.4254</td>\n",
              "    </tr>\n",
              "  </tbody>\n",
              "</table>\n",
              "</div>"
            ],
            "text/plain": [
              "              0         1          2  ...        7        8        9\n",
              "0  #whistlepodu  #ipl2021  #hallabol  ...  #master  #fanof…      #rr\n",
              "1       95.1389   50.9709    91.1111  ...  93.8144      100  49.3243\n",
              "2       38.1944   56.3107    78.3333  ...      100      100  60.1351\n",
              "3       1.26316   1.54887    2.06897  ...    2.425       10   1.3578\n",
              "4       48.9715   62.9566    89.5134  ...  111.806      120  66.4254\n",
              "\n",
              "[5 rows x 10 columns]"
            ]
          },
          "metadata": {
            "tags": []
          },
          "execution_count": 41
        }
      ]
    },
    {
      "cell_type": "code",
      "metadata": {
        "id": "qgONwwPOl_xM"
      },
      "source": [
        ""
      ],
      "execution_count": null,
      "outputs": []
    }
  ]
}