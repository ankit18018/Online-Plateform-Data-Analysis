{
  "nbformat": 4,
  "nbformat_minor": 0,
  "metadata": {
    "colab": {
      "name": "Ankit_2018018_section3.ipynb",
      "provenance": [],
      "collapsed_sections": []
    },
    "kernelspec": {
      "name": "python3",
      "display_name": "Python 3"
    }
  },
  "cells": [
    {
      "cell_type": "code",
      "metadata": {
        "colab": {
          "base_uri": "https://localhost:8080/"
        },
        "id": "uciMS8AYZcxt",
        "outputId": "dd7a5cd4-d7d4-4960-b660-a9e720e91001"
      },
      "source": [
        "from google.colab import drive\r\n",
        "drive.mount('/content/gdrive')"
      ],
      "execution_count": 1,
      "outputs": [
        {
          "output_type": "stream",
          "text": [
            "Mounted at /content/gdrive\n"
          ],
          "name": "stdout"
        }
      ]
    },
    {
      "cell_type": "code",
      "metadata": {
        "colab": {
          "base_uri": "https://localhost:8080/"
        },
        "id": "zOBU3cvPZqET",
        "outputId": "21bd37eb-5a35-4ce5-cb0a-2498b0ce5f38"
      },
      "source": [
        "cd gdrive"
      ],
      "execution_count": 2,
      "outputs": [
        {
          "output_type": "stream",
          "text": [
            "/content/gdrive\n"
          ],
          "name": "stdout"
        }
      ]
    },
    {
      "cell_type": "code",
      "metadata": {
        "colab": {
          "base_uri": "https://localhost:8080/"
        },
        "id": "DQ-MIBj9Z09f",
        "outputId": "74652c9a-d525-441c-a9e3-442c0a6d60ae"
      },
      "source": [
        "cd MyDrive"
      ],
      "execution_count": 3,
      "outputs": [
        {
          "output_type": "stream",
          "text": [
            "/content/gdrive/MyDrive\n"
          ],
          "name": "stdout"
        }
      ]
    },
    {
      "cell_type": "markdown",
      "metadata": {
        "id": "Aa3I-WWbZ3rB"
      },
      "source": [
        "Preprocessing"
      ]
    },
    {
      "cell_type": "code",
      "metadata": {
        "colab": {
          "base_uri": "https://localhost:8080/"
        },
        "id": "2Fhx6fYFZ1XR",
        "outputId": "999acd9e-c20d-4dd9-cb03-6f58af522402"
      },
      "source": [
        "import pandas as pd\r\n",
        "import numpy as np\r\n",
        "import plotly.graph_objs as pt\r\n",
        "import plotly\r\n",
        "import plotly.express as ex\r\n",
        "from textblob import TextBlob\r\n",
        "import nltk\r\n",
        "from nltk import word_tokenize\r\n",
        "from nltk.corpus import stopwords\r\n",
        "import matplotlib.pyplot as mp\r\n",
        "from sklearn.model_selection import train_test_split\r\n",
        "from sklearn.feature_extraction.text import CountVectorizer\r\n",
        "from sklearn.metrics import classification_report\r\n",
        "from sklearn.metrics import confusion_matrix\r\n",
        "from sklearn.metrics import accuracy_score\r\n",
        "from sklearn.naive_bayes import MultinomialNB\r\n",
        "pkl=pd.read_pickle('redditDataset.pkl')\r\n",
        "nltk.download('stopwords')\r\n",
        "nltk.download('punkt')\r\n",
        "import pickle"
      ],
      "execution_count": 4,
      "outputs": [
        {
          "output_type": "stream",
          "text": [
            "[nltk_data] Downloading package stopwords to /root/nltk_data...\n",
            "[nltk_data]   Unzipping corpora/stopwords.zip.\n",
            "[nltk_data] Downloading package punkt to /root/nltk_data...\n",
            "[nltk_data]   Unzipping tokenizers/punkt.zip.\n"
          ],
          "name": "stdout"
        }
      ]
    },
    {
      "cell_type": "markdown",
      "metadata": {
        "id": "oXFueNiGZ9CS"
      },
      "source": [
        "Section3"
      ]
    },
    {
      "cell_type": "code",
      "metadata": {
        "colab": {
          "base_uri": "https://localhost:8080/",
          "height": 623
        },
        "id": "b-ZEfG5zZ7TC",
        "outputId": "dffd946a-5528-421a-b8f8-2b6c6385a7c4"
      },
      "source": [
        "id_res = pd.read_csv(\"IdentityResolution.csv\" ,names= [\"username\",\"twitter\",\"fb\",\"insta\"])\r\n",
        "\r\n",
        "id_res"
      ],
      "execution_count": 5,
      "outputs": [
        {
          "output_type": "execute_result",
          "data": {
            "text/html": [
              "<div>\n",
              "<style scoped>\n",
              "    .dataframe tbody tr th:only-of-type {\n",
              "        vertical-align: middle;\n",
              "    }\n",
              "\n",
              "    .dataframe tbody tr th {\n",
              "        vertical-align: top;\n",
              "    }\n",
              "\n",
              "    .dataframe thead th {\n",
              "        text-align: right;\n",
              "    }\n",
              "</style>\n",
              "<table border=\"1\" class=\"dataframe\">\n",
              "  <thead>\n",
              "    <tr style=\"text-align: right;\">\n",
              "      <th></th>\n",
              "      <th>username</th>\n",
              "      <th>twitter</th>\n",
              "      <th>fb</th>\n",
              "      <th>insta</th>\n",
              "    </tr>\n",
              "  </thead>\n",
              "  <tbody>\n",
              "    <tr>\n",
              "      <th>0</th>\n",
              "      <td>Alain Stephan Domnguez Lucas</td>\n",
              "      <td>https://www.twitter.com/alainstephan</td>\n",
              "      <td>http://www.facebook.com/alainpato</td>\n",
              "      <td>http://instagram.com/alainstephan</td>\n",
              "    </tr>\n",
              "    <tr>\n",
              "      <th>1</th>\n",
              "      <td>Alex Sablan</td>\n",
              "      <td>https://www.twitter.com/AlexSablancom</td>\n",
              "      <td>https://facebook.com/alexsablancom</td>\n",
              "      <td>http://instagram.com/a_sablan</td>\n",
              "    </tr>\n",
              "    <tr>\n",
              "      <th>2</th>\n",
              "      <td>Xavier Gass</td>\n",
              "      <td>https://www.twitter.com/XaviGasso</td>\n",
              "      <td>http://www.facebook.com/xgasso</td>\n",
              "      <td>http://instagram.com/xavigasso</td>\n",
              "    </tr>\n",
              "    <tr>\n",
              "      <th>3</th>\n",
              "      <td>Nicole Lapin</td>\n",
              "      <td>https://www.twitter.com/NicoleLapin</td>\n",
              "      <td>http://www.facebook.com/nicolelapin</td>\n",
              "      <td>http://instagram.com/nicolelapin</td>\n",
              "    </tr>\n",
              "    <tr>\n",
              "      <th>4</th>\n",
              "      <td>Mattan Griffel</td>\n",
              "      <td>https://www.twitter.com/mattangriffel</td>\n",
              "      <td>http://www.facebook.com/mattangriffel</td>\n",
              "      <td>http://instagram.com/mattangriffel</td>\n",
              "    </tr>\n",
              "    <tr>\n",
              "      <th>...</th>\n",
              "      <td>...</td>\n",
              "      <td>...</td>\n",
              "      <td>...</td>\n",
              "      <td>...</td>\n",
              "    </tr>\n",
              "    <tr>\n",
              "      <th>319</th>\n",
              "      <td>Vasu Chawla</td>\n",
              "      <td>https://twitter.com/VasuChawla</td>\n",
              "      <td>https://facebook.com/vasuchawla26</td>\n",
              "      <td>https://instagram.com/vasuchawla</td>\n",
              "    </tr>\n",
              "    <tr>\n",
              "      <th>320</th>\n",
              "      <td>Dayn Wilberding</td>\n",
              "      <td>http://www.twitter.com/dayn</td>\n",
              "      <td>http://www.facebook.com/daynw</td>\n",
              "      <td>http://instagram.com/dayn</td>\n",
              "    </tr>\n",
              "    <tr>\n",
              "      <th>321</th>\n",
              "      <td>Guillermo Navarro</td>\n",
              "      <td>https://www.twitter.com/bildenlex</td>\n",
              "      <td>https://www.facebook.com/DRGUILLERMONAVARRO</td>\n",
              "      <td>http://instagram.com/bildenlex</td>\n",
              "    </tr>\n",
              "    <tr>\n",
              "      <th>322</th>\n",
              "      <td>Antonio J. Cuevas</td>\n",
              "      <td>https://www.twitter.com/Zeroneuronas</td>\n",
              "      <td>http://www.facebook.com/antonio.j.cuevas</td>\n",
              "      <td>http://instagram.com/zeroneuronas</td>\n",
              "    </tr>\n",
              "    <tr>\n",
              "      <th>323</th>\n",
              "      <td>Ghibril Ariadna</td>\n",
              "      <td>https://www.twitter.com/AriGhibril</td>\n",
              "      <td>https://www.facebook.com/ghibril</td>\n",
              "      <td>http://instagram.com/ghibril</td>\n",
              "    </tr>\n",
              "  </tbody>\n",
              "</table>\n",
              "<p>324 rows × 4 columns</p>\n",
              "</div>"
            ],
            "text/plain": [
              "                         username  ...                               insta\n",
              "0    Alain Stephan Domnguez Lucas  ...   http://instagram.com/alainstephan\n",
              "1                     Alex Sablan  ...       http://instagram.com/a_sablan\n",
              "2                     Xavier Gass  ...      http://instagram.com/xavigasso\n",
              "3                    Nicole Lapin  ...    http://instagram.com/nicolelapin\n",
              "4                  Mattan Griffel  ...  http://instagram.com/mattangriffel\n",
              "..                            ...  ...                                 ...\n",
              "319                   Vasu Chawla  ...    https://instagram.com/vasuchawla\n",
              "320               Dayn Wilberding  ...           http://instagram.com/dayn\n",
              "321             Guillermo Navarro  ...      http://instagram.com/bildenlex\n",
              "322             Antonio J. Cuevas  ...   http://instagram.com/zeroneuronas\n",
              "323               Ghibril Ariadna  ...        http://instagram.com/ghibril\n",
              "\n",
              "[324 rows x 4 columns]"
            ]
          },
          "metadata": {
            "tags": []
          },
          "execution_count": 5
        }
      ]
    },
    {
      "cell_type": "code",
      "metadata": {
        "id": "etNtEsbDaH9Z"
      },
      "source": [
        "name=[]\r\n",
        "t_name=[]\r\n",
        "fb_name=[]\r\n",
        "ig_name=[]\r\n",
        "#print(id_res['username'][0])\r\n",
        "for i in range(len(id_res)):\r\n",
        "  name.append(id_res['username'][i])\r\n",
        "  temp_t=str(id_res['twitter'][i])\r\n",
        "  temp_l_tw=temp_t.split(\"/\")\r\n",
        "  if(temp_l_tw[-1]!=\"\"):\r\n",
        "    t_name.append(temp_l_tw[-1])\r\n",
        "  else:\r\n",
        "    t_name.append(temp_l_tw[-2])\r\n",
        "\r\n",
        "  temp_fb=str(id_res['fb'][i])\r\n",
        "  temp_l_fb=temp_fb.split(\"/\")\r\n",
        "  if(temp_l_fb[-1]!=\"\"):\r\n",
        "    fb_name.append(temp_l_fb[-1])\r\n",
        "  else:\r\n",
        "    fb_name.append(temp_l_fb[-2])\r\n",
        "\r\n",
        "  temp_ig=str(id_res['insta'][i])\r\n",
        "  temp_l_ig=temp_ig.split(\"/\")\r\n",
        "  if(temp_l_ig[-1]!=\"\"):\r\n",
        "    ig_name.append(temp_l_ig[-1])\r\n",
        "  else:\r\n",
        "    ig_name.append(temp_l_ig[-2])\r\n",
        "\r\n"
      ],
      "execution_count": 6,
      "outputs": []
    },
    {
      "cell_type": "code",
      "metadata": {
        "id": "ZCBr8NhqaL2w"
      },
      "source": [
        "ed1=[]\r\n",
        "ed2=[]\r\n",
        "ed3=[]\r\n",
        "for i in range(len(id_res)):\r\n",
        "  ed2.append(nltk.masi_distance(set(fb_name[i]),set(ig_name[i])))\r\n",
        "  ed1.append(nltk.masi_distance(set(t_name[i]),set(fb_name[i])))\r\n",
        "  ed3.append(nltk.masi_distance(set(t_name[i]),set(ig_name[i])))\r\n",
        "ja1=[]\r\n",
        "ja2=[]\r\n",
        "ja3=[]\r\n",
        "for j in range(len(id_res)):\r\n",
        "  ja1.append(nltk.jaccard_distance(set(t_name[j]),set(fb_name[j])))\r\n",
        "  ja2.append(nltk.jaccard_distance(set(fb_name[j]),set(ig_name[j])))\r\n",
        "  ja3.append(nltk.jaccard_distance(set(t_name[j]),set(ig_name[j])))"
      ],
      "execution_count": 16,
      "outputs": []
    },
    {
      "cell_type": "markdown",
      "metadata": {
        "id": "FRhHiDv2aPOO"
      },
      "source": [
        "Q1(A)"
      ]
    },
    {
      "cell_type": "code",
      "metadata": {
        "colab": {
          "base_uri": "https://localhost:8080/"
        },
        "id": "-fOIwXMXaNqU",
        "outputId": "6c459e88-15a1-4111-9933-7d9eb8a61764"
      },
      "source": [
        "cm_tf=0\r\n",
        "cm_fi=0\r\n",
        "cm_ti=0\r\n",
        "cj_tf=0\r\n",
        "cj_fi=0\r\n",
        "cj_ti=0\r\n",
        "for i in range(len(id_res)):\r\n",
        "  if(ed1[i]<ja1[i]):\r\n",
        "    cm_tf=cm_tf+1\r\n",
        "  elif(ed1[i]>ja1[i]):\r\n",
        "    cj_tf=cj_tf+1\r\n",
        "\r\n",
        "  if(ed2[i]<ja2[i]):\r\n",
        "    cm_fi=cm_fi+1\r\n",
        "  elif(ed2[i]>ja2[i]):\r\n",
        "    cj_fi=cj_fi+1\r\n",
        "    \r\n",
        "  if(ed3[i]<ja3[i]):\r\n",
        "    cm_ti=cm_ti+1\r\n",
        "  elif(ed3[i]>ja3[i]):\r\n",
        "    cj_ti=cj_ti+1\r\n",
        "    \r\n",
        "print(cm_tf, cj_tf)\r\n",
        "print(cm_fi, cj_fi)\r\n",
        "print(cm_ti, cj_ti)\r\n",
        "\r\n",
        "if(cm_tf>cj_tf):\r\n",
        "  print(\"Best metric for twitter and Facebook is masi distance metric\")\r\n",
        "else:\r\n",
        "  print(\"Best metric for twitter and Facebook is jaccard distance metric\")\r\n",
        "if(cm_fi>cj_fi):\r\n",
        "  print(\"Best metric for Facebookand insta is masi distance metric\")\r\n",
        "else:\r\n",
        "  print(\"Best metric for Facebook and insta is jaccard distance metric\")\r\n",
        "if(cm_ti>cj_ti):\r\n",
        "  print(\"Best metric for twitter and insta is masi distance metric\")\r\n",
        "else:\r\n",
        "  print(\"Best metric for twitter and insta is jaccard distance metric\")\r\n",
        "\r\n",
        "\r\n"
      ],
      "execution_count": 8,
      "outputs": [
        {
          "output_type": "stream",
          "text": [
            "233 0\n",
            "219 0\n",
            "165 0\n",
            "Best metric for twitter and Facebook is masi distance metric\n",
            "Best metric for Facebookand insta is masi distance metric\n",
            "Best metric for twitter and insta is masi distance metric\n"
          ],
          "name": "stdout"
        }
      ]
    },
    {
      "cell_type": "markdown",
      "metadata": {
        "id": "L_Z-DTLuaT_Y"
      },
      "source": [
        "Q1(B)"
      ]
    },
    {
      "cell_type": "code",
      "metadata": {
        "id": "vlZt0G8WaSIN"
      },
      "source": [
        "fr_cm_tf=[0 for i in range(5)]\r\n",
        "fr_cm_fi=[0 for i in range(5)]\r\n",
        "fr_cm_ti=[0 for i in range(5)]\r\n",
        "fr_cj_tf=[0 for i in range(5)]\r\n",
        "fr_cj_fi=[0 for i in range(5)]\r\n",
        "fr_cj_ti=[0 for i in range(5)]\r\n",
        "for i in range(len(name)):\r\n",
        "  if(ed1[i]>=0 and ed1[i]<.2):\r\n",
        "    fr_cm_tf[0]=fr_cm_tf[0]+1\r\n",
        "  elif(ed1[i]>=.2 and ed1[i]<.4):\r\n",
        "    fr_cm_tf[1]=fr_cm_tf[1]+1\r\n",
        "  elif(ed1[i]>=.4 and ed1[i]<.6):\r\n",
        "    fr_cm_tf[2]=fr_cm_tf[2]+1\r\n",
        "  elif(ed1[i]>=.6 and ed1[i]<.8):\r\n",
        "    fr_cm_tf[3]=fr_cm_tf[3]+1\r\n",
        "  elif(ed1[i]>=.8 and ed1[i]<=1):\r\n",
        "    fr_cm_tf[4]=fr_cm_tf[4]+1\r\n",
        "\r\n",
        "for i in range(len(name)):\r\n",
        "  if(ed2[i]>=0 and ed2[i]<.2):\r\n",
        "    fr_cm_fi[0]=fr_cm_fi[0]+1\r\n",
        "  elif(ed2[i]>=.2 and ed2[i]<.4):\r\n",
        "    fr_cm_fi[1]=fr_cm_fi[1]+1\r\n",
        "  elif(ed2[i]>=.4 and ed2[i]<.6):\r\n",
        "    fr_cm_fi[2]=fr_cm_fi[2]+1\r\n",
        "  elif(ed2[i]>=.6 and ed2[i]<.8):\r\n",
        "    fr_cm_fi[3]=fr_cm_fi[3]+1\r\n",
        "  elif(ed2[i]>=.8 and ed2[i]<=1):\r\n",
        "    fr_cm_fi[4]=fr_cm_fi[4]+1\r\n",
        "for i in range(len(name)):\r\n",
        "  if(ed3[i]>=0 and ed3[i]<.2):\r\n",
        "    fr_cm_ti[0]=fr_cm_ti[0]+1\r\n",
        "  elif(ed3[i]>=.2 and ed3[i]<.4):\r\n",
        "    fr_cm_ti[1]=fr_cm_ti[1]+1\r\n",
        "  elif(ed3[i]>=.4 and ed3[i]<.6):\r\n",
        "    fr_cm_ti[2]=fr_cm_ti[2]+1\r\n",
        "  elif(ed3[i]>=.6 and ed3[i]<.8):\r\n",
        "    fr_cm_ti[3]=fr_cm_ti[3]+1\r\n",
        "  elif(ed3[i]>=.8 and ed3[i]<=1):\r\n",
        "    fr_cm_ti[4]=fr_cm_ti[4]+1\r\n",
        "for i in range(len(name)):\r\n",
        "  if(ja1[i]>=0 and ja1[i]<.2):\r\n",
        "    fr_cj_tf[0]=fr_cj_tf[0]+1\r\n",
        "  elif(ja1[i]>=.2 and ja1[i]<.4):\r\n",
        "    fr_cj_tf[1]=fr_cj_tf[1]+1\r\n",
        "  elif(ja1[i]>=.4 and ja1[i]<.6):\r\n",
        "    fr_cj_tf[2]=fr_cj_tf[2]+1\r\n",
        "  elif(ja1[i]>=.6 and ja1[i]<.8):\r\n",
        "    fr_cj_tf[3]=fr_cj_tf[3]+1\r\n",
        "  elif(ja1[i]>=.8 and ja1[i]<=1):\r\n",
        "    fr_cj_tf[4]=fr_cj_tf[4]+1\r\n",
        "\r\n",
        "for i in range(len(name)):\r\n",
        "  if(ja2[i]>=0 and ja2[i]<.2):\r\n",
        "    fr_cj_fi[0]=fr_cj_fi[0]+1\r\n",
        "  elif(ja2[i]>=.2 and ja2[i]<.4):\r\n",
        "    fr_cj_fi[1]=fr_cj_fi[1]+1\r\n",
        "  elif(ja2[i]>=.4 and ja2[i]<.6):\r\n",
        "    fr_cj_fi[2]=fr_cj_fi[2]+1\r\n",
        "  elif(ja2[i]>=.6 and ja2[i]<.8):\r\n",
        "    fr_cj_fi[3]=fr_cj_fi[3]+1\r\n",
        "  elif(ja2[i]>=.8 and ja2[i]<=1):\r\n",
        "    fr_cj_fi[4]=fr_cj_fi[4]+1\r\n",
        "for i in range(len(name)):\r\n",
        "  if(ja3[i]>=0 and ja3[i]<.2):\r\n",
        "    fr_cj_ti[0]=fr_cj_ti[0]+1\r\n",
        "  elif(ja3[i]>=.2 and ja3[i]<.4):\r\n",
        "    fr_cj_ti[1]=fr_cj_ti[1]+1\r\n",
        "  elif(ja3[i]>=.4 and ja3[i]<.6):\r\n",
        "    fr_cj_ti[2]=fr_cj_ti[2]+1\r\n",
        "  elif(ja3[i]>=.6 and ja3[i]<.8):\r\n",
        "    fr_cj_ti[3]=fr_cj_ti[3]+1\r\n",
        "  elif(ja3[i]>=.8 and ja3[i]<=1):\r\n",
        "    fr_cj_ti[4]=fr_cj_ti[4]+1\r\n",
        "bucket=[\"[0-0.2)\", \"[0.2-0.4)\", \"[0.4-0.6)\", \"[0.6-0.8)\",\"[0.8-1]\"]  \r\n",
        "\r\n"
      ],
      "execution_count": 9,
      "outputs": []
    },
    {
      "cell_type": "code",
      "metadata": {
        "colab": {
          "base_uri": "https://localhost:8080/",
          "height": 311
        },
        "id": "R6_oygcDaXwm",
        "outputId": "aff88b78-8ccd-47f5-9c02-92eb82d81d2d"
      },
      "source": [
        "\r\n",
        "mp.bar(bucket,fr_cm_tf,color='r', align = 'center', alpha = 0.5)\r\n",
        "mp.ylabel(\"freq count of Masi distance between twitter to Facebook\")\r\n",
        "mp.xlabel('Bucket size = 0.2')\r\n",
        "#mp.xticks(rotation = 90)\r\n",
        "mp.title(\" Q3 Masi distance between twitter to Facebook\")\r\n",
        "mp.show()\r\n",
        "# for i in range(len(ed1)):\r\n",
        "#   print(ed2[i], ja2[i])"
      ],
      "execution_count": 10,
      "outputs": [
        {
          "output_type": "display_data",
          "data": {
            "image/png": "[encoded data removed]",
            "text/plain": [
              "<Figure size 432x288 with 1 Axes>"
            ]
          },
          "metadata": {
            "tags": [],
            "needs_background": "light"
          }
        }
      ]
    },
    {
      "cell_type": "code",
      "metadata": {
        "colab": {
          "base_uri": "https://localhost:8080/",
          "height": 300
        },
        "id": "o6G1vmwnabEK",
        "outputId": "4025a261-ad08-4444-e8fb-5dde2f4926ab"
      },
      "source": [
        "mp.bar(bucket,fr_cm_fi,color='r', align = 'center', alpha = 0.5)\r\n",
        "mp.ylabel(\"freq count Masi distance between Facebook to insta\")\r\n",
        "mp.xlabel('Bucket size = 0.2')\r\n",
        "#mp.xticks(rotation = 90)\r\n",
        "mp.title(\" Q3 Masi distance between Facebook to insta\")\r\n",
        "mp.show()"
      ],
      "execution_count": 11,
      "outputs": [
        {
          "output_type": "display_data",
          "data": {
            "image/png": "[encoded data removed]",
            "text/plain": [
              "<Figure size 432x288 with 1 Axes>"
            ]
          },
          "metadata": {
            "tags": [],
            "needs_background": "light"
          }
        }
      ]
    },
    {
      "cell_type": "code",
      "metadata": {
        "colab": {
          "base_uri": "https://localhost:8080/",
          "height": 301
        },
        "id": "bKlAOtmpaddF",
        "outputId": "b63ce7f9-c6fc-4df9-de7e-75d07574713b"
      },
      "source": [
        "mp.bar(bucket,fr_cm_ti,color='r', align = 'center', alpha = 0.5)\r\n",
        "mp.ylabel(\" freq count of Masi distance between twitter to insta\")\r\n",
        "mp.xlabel('Bucket size = 0.2')\r\n",
        "#mp.xticks(rotation = 90)\r\n",
        "mp.title(\" Q3 Masi distance between twitter to insta\")\r\n",
        "mp.show()"
      ],
      "execution_count": 17,
      "outputs": [
        {
          "output_type": "display_data",
          "data": {
            "image/png": "[encoded data removed]",
            "text/plain": [
              "<Figure size 432x288 with 1 Axes>"
            ]
          },
          "metadata": {
            "tags": [],
            "needs_background": "light"
          }
        }
      ]
    },
    {
      "cell_type": "code",
      "metadata": {
        "colab": {
          "base_uri": "https://localhost:8080/",
          "height": 325
        },
        "id": "DlE6FHI_afjB",
        "outputId": "98ecaedd-17b2-4dac-c1f2-7a0f55cb73d3"
      },
      "source": [
        "mp.bar(bucket,fr_cj_tf,color='r', align = 'center', alpha = 0.5)\r\n",
        "mp.ylabel(\"freq count of jaccard distance between twitter to Facebook\")\r\n",
        "mp.xlabel('Bucket size = 0.2')\r\n",
        "#mp.xticks(rotation = 90)\r\n",
        "mp.title(\" Q3 Jaccard distance between twitter to Facebook\")\r\n",
        "mp.show()"
      ],
      "execution_count": 18,
      "outputs": [
        {
          "output_type": "display_data",
          "data": {
            "image/png": "[encoded data removed]",
            "text/plain": [
              "<Figure size 432x288 with 1 Axes>"
            ]
          },
          "metadata": {
            "tags": [],
            "needs_background": "light"
          }
        }
      ]
    },
    {
      "cell_type": "code",
      "metadata": {
        "colab": {
          "base_uri": "https://localhost:8080/",
          "height": 317
        },
        "id": "MclT9WDRahcN",
        "outputId": "2f8401ec-7c8e-4388-9ccd-d3d00457078f"
      },
      "source": [
        "mp.bar(bucket,fr_cj_fi,color='r', align = 'center', alpha = 0.5)\r\n",
        "mp.ylabel(\"freq count of jaccard distance between Facebook to insta\")\r\n",
        "mp.xlabel('Bucket size = 0.2')\r\n",
        "#mp.xticks(rotation = 90)\r\n",
        "mp.title(\" Q3 Jaccard distance between Facebook to insta\")\r\n",
        "mp.show()"
      ],
      "execution_count": 19,
      "outputs": [
        {
          "output_type": "display_data",
          "data": {
            "image/png": "[encoded data removed]",
            "text/plain": [
              "<Figure size 432x288 with 1 Axes>"
            ]
          },
          "metadata": {
            "tags": [],
            "needs_background": "light"
          }
        }
      ]
    },
    {
      "cell_type": "code",
      "metadata": {
        "colab": {
          "base_uri": "https://localhost:8080/",
          "height": 307
        },
        "id": "6Ap_vU2eajHp",
        "outputId": "58df1ade-96e3-402f-a1a0-cc5f1e0c0012"
      },
      "source": [
        "mp.bar(bucket,fr_cj_ti,color='r', align = 'center', alpha = 0.5)\r\n",
        "mp.ylabel(\"freq count of jaccard distance between twitter to insta\")\r\n",
        "mp.xlabel('Bucket size = 0.2')\r\n",
        "#mp.xticks(rotation = 90)\r\n",
        "mp.title(\" Q3 Jaccard distance between twitter to insta\")\r\n",
        "mp.show()"
      ],
      "execution_count": 20,
      "outputs": [
        {
          "output_type": "display_data",
          "data": {
            "image/png": "[encoded data removed]",
            "text/plain": [
              "<Figure size 432x288 with 1 Axes>"
            ]
          },
          "metadata": {
            "tags": [],
            "needs_background": "light"
          }
        }
      ]
    },
    {
      "cell_type": "code",
      "metadata": {
        "id": "w5r3OBYZalNJ"
      },
      "source": [
        ""
      ],
      "execution_count": null,
      "outputs": []
    }
  ]
}