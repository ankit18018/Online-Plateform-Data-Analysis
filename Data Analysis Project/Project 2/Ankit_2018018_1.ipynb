{
  "nbformat": 4,
  "nbformat_minor": 0,
  "metadata": {
    "colab": {
      "name": "Ankit_2018018_section1.ipynb",
      "provenance": [],
      "collapsed_sections": []
    },
    "kernelspec": {
      "name": "python3",
      "display_name": "Python 3"
    }
  },
  "cells": [
    {
      "cell_type": "code",
      "metadata": {
        "colab": {
          "base_uri": "https://localhost:8080/"
        },
        "id": "Oe17cYLWawFL",
        "outputId": "05cb25a3-a93d-4452-8c91-45f80d860d2e"
      },
      "source": [
        "from google.colab import drive\r\n",
        "drive.mount('/content/gdrive')"
      ],
      "execution_count": null,
      "outputs": [
        {
          "output_type": "stream",
          "text": [
            "Mounted at /content/gdrive\n"
          ],
          "name": "stdout"
        }
      ]
    },
    {
      "cell_type": "code",
      "metadata": {
        "colab": {
          "base_uri": "https://localhost:8080/"
        },
        "id": "TraUyl5La6xQ",
        "outputId": "81b5436b-06b2-4ce5-9a12-226e55b6f05b"
      },
      "source": [
        "cd gdrive"
      ],
      "execution_count": null,
      "outputs": [
        {
          "output_type": "stream",
          "text": [
            "/content/gdrive\n"
          ],
          "name": "stdout"
        }
      ]
    },
    {
      "cell_type": "code",
      "metadata": {
        "colab": {
          "base_uri": "https://localhost:8080/"
        },
        "id": "8oCwjtjza8t0",
        "outputId": "8bba833d-cbad-4750-fe85-47a2ce80e8e5"
      },
      "source": [
        "cd MyDrive"
      ],
      "execution_count": null,
      "outputs": [
        {
          "output_type": "stream",
          "text": [
            "/content/gdrive/MyDrive\n"
          ],
          "name": "stdout"
        }
      ]
    },
    {
      "cell_type": "markdown",
      "metadata": {
        "id": "1diK7etKbEd3"
      },
      "source": [
        "Preprocessing"
      ]
    },
    {
      "cell_type": "code",
      "metadata": {
        "colab": {
          "base_uri": "https://localhost:8080/"
        },
        "id": "0eCQu-BNa-MC",
        "outputId": "f2927fdc-f4b0-4a71-ae73-328ecfede6cb"
      },
      "source": [
        "import pandas as pd\r\n",
        "import numpy as np\r\n",
        "import plotly.graph_objs as pt\r\n",
        "import plotly\r\n",
        "import plotly.express as ex\r\n",
        "from textblob import TextBlob\r\n",
        "import nltk\r\n",
        "from nltk import word_tokenize\r\n",
        "from nltk.corpus import stopwords\r\n",
        "import matplotlib.pyplot as mp\r\n",
        "from sklearn.model_selection import train_test_split\r\n",
        "from sklearn.feature_extraction.text import CountVectorizer\r\n",
        "from sklearn.metrics import classification_report\r\n",
        "from sklearn.metrics import confusion_matrix\r\n",
        "from sklearn.metrics import accuracy_score\r\n",
        "from sklearn.naive_bayes import MultinomialNB\r\n",
        "pkl=pd.read_pickle('redditDataset.pkl')\r\n",
        "nltk.download('stopwords')\r\n",
        "nltk.download('punkt')\r\n",
        "import pickle"
      ],
      "execution_count": null,
      "outputs": [
        {
          "output_type": "stream",
          "text": [
            "[nltk_data] Downloading package stopwords to /root/nltk_data...\n",
            "[nltk_data]   Unzipping corpora/stopwords.zip.\n",
            "[nltk_data] Downloading package punkt to /root/nltk_data...\n",
            "[nltk_data]   Unzipping tokenizers/punkt.zip.\n"
          ],
          "name": "stdout"
        }
      ]
    },
    {
      "cell_type": "markdown",
      "metadata": {
        "id": "c1g5YLcjbKjj"
      },
      "source": [
        "Section 1"
      ]
    },
    {
      "cell_type": "code",
      "metadata": {
        "colab": {
          "base_uri": "https://localhost:8080/",
          "height": 402
        },
        "id": "oonBnm8_bIRc",
        "outputId": "12f5071f-822f-4c83-d16a-9f387c1d645d"
      },
      "source": [
        "dis_pkl=pkl.drop_duplicates()\r\n",
        "dis_pkl"
      ],
      "execution_count": null,
      "outputs": [
        {
          "output_type": "execute_result",
          "data": {
            "text/html": [
              "<div>\n",
              "<style scoped>\n",
              "    .dataframe tbody tr th:only-of-type {\n",
              "        vertical-align: middle;\n",
              "    }\n",
              "\n",
              "    .dataframe tbody tr th {\n",
              "        vertical-align: top;\n",
              "    }\n",
              "\n",
              "    .dataframe thead th {\n",
              "        text-align: right;\n",
              "    }\n",
              "</style>\n",
              "<table border=\"1\" class=\"dataframe\">\n",
              "  <thead>\n",
              "    <tr style=\"text-align: right;\">\n",
              "      <th></th>\n",
              "      <th>text</th>\n",
              "      <th>subreddit</th>\n",
              "    </tr>\n",
              "  </thead>\n",
              "  <tbody>\n",
              "    <tr>\n",
              "      <th>0</th>\n",
              "      <td>that sounds like the answer of a man who does ...</td>\n",
              "      <td>humor</td>\n",
              "    </tr>\n",
              "    <tr>\n",
              "      <th>1</th>\n",
              "      <td>i always wonder what people get out of reposti...</td>\n",
              "      <td>humor</td>\n",
              "    </tr>\n",
              "    <tr>\n",
              "      <th>2</th>\n",
              "      <td>fuck that  downvote them for stalking you in t...</td>\n",
              "      <td>humor</td>\n",
              "    </tr>\n",
              "    <tr>\n",
              "      <th>3</th>\n",
              "      <td>seeing as how much this has been around  and a...</td>\n",
              "      <td>humor</td>\n",
              "    </tr>\n",
              "    <tr>\n",
              "      <th>4</th>\n",
              "      <td>it took me a while to even get my legally requ...</td>\n",
              "      <td>humor</td>\n",
              "    </tr>\n",
              "    <tr>\n",
              "      <th>...</th>\n",
              "      <td>...</td>\n",
              "      <td>...</td>\n",
              "    </tr>\n",
              "    <tr>\n",
              "      <th>76082</th>\n",
              "      <td>i would recommend anyone looking for a more de...</td>\n",
              "      <td>news</td>\n",
              "    </tr>\n",
              "    <tr>\n",
              "      <th>76263</th>\n",
              "      <td>so much innuendo so little facts why so coy  i...</td>\n",
              "      <td>news</td>\n",
              "    </tr>\n",
              "    <tr>\n",
              "      <th>80398</th>\n",
              "      <td>well mlk was black  and bernie is white also ...</td>\n",
              "      <td>news</td>\n",
              "    </tr>\n",
              "    <tr>\n",
              "      <th>81034</th>\n",
              "      <td>a man intentionally kills animals and gets 50 ...</td>\n",
              "      <td>news</td>\n",
              "    </tr>\n",
              "    <tr>\n",
              "      <th>81686</th>\n",
              "      <td>he is right he was part of the obstruction bac...</td>\n",
              "      <td>news</td>\n",
              "    </tr>\n",
              "  </tbody>\n",
              "</table>\n",
              "<p>3651 rows × 2 columns</p>\n",
              "</div>"
            ],
            "text/plain": [
              "                                                    text subreddit\n",
              "0      that sounds like the answer of a man who does ...     humor\n",
              "1      i always wonder what people get out of reposti...     humor\n",
              "2      fuck that  downvote them for stalking you in t...     humor\n",
              "3      seeing as how much this has been around  and a...     humor\n",
              "4      it took me a while to even get my legally requ...     humor\n",
              "...                                                  ...       ...\n",
              "76082  i would recommend anyone looking for a more de...      news\n",
              "76263  so much innuendo so little facts why so coy  i...      news\n",
              "80398   well mlk was black  and bernie is white also ...      news\n",
              "81034  a man intentionally kills animals and gets 50 ...      news\n",
              "81686  he is right he was part of the obstruction bac...      news\n",
              "\n",
              "[3651 rows x 2 columns]"
            ]
          },
          "metadata": {
            "tags": []
          },
          "execution_count": 5
        }
      ]
    },
    {
      "cell_type": "markdown",
      "metadata": {
        "id": "vc3MTJr_cNLL"
      },
      "source": [
        "Section 1 Q1 A\r\n"
      ]
    },
    {
      "cell_type": "code",
      "metadata": {
        "colab": {
          "base_uri": "https://localhost:8080/"
        },
        "id": "5G8M3hUCcK3W",
        "outputId": "15a632bc-a5eb-4f3d-dc4e-f7b73d1b27f9"
      },
      "source": [
        "pol_hum=[]\r\n",
        "sub_hum=[]\r\n",
        "pol_new=[]\r\n",
        "sub_new=[]\r\n",
        "hum_t=\"\"\r\n",
        "new_t=\"\"\r\n",
        "text=dis_pkl['text'].to_numpy()\r\n",
        "sub=dis_pkl['subreddit'].to_numpy()\r\n",
        "type(sub)\r\n",
        "for i in range(len(dis_pkl['text'])):\r\n",
        "  \r\n",
        "  if(sub[i]==\"humor\"):\r\n",
        "    hum_t=hum_t+\" \"+text[i]\r\n",
        "    pol_hum.append(TextBlob(text[i]).sentiment[0])\r\n",
        "    sub_hum.append(TextBlob(text[i]).sentiment[1])\r\n",
        "  else:\r\n",
        "    new_t=new_t+\" \"+text[i]\r\n",
        "    pol_new.append(TextBlob(text[i]).sentiment[0])\r\n",
        "    sub_new.append(TextBlob(text[i]).sentiment[1])\r\n",
        "\r\n",
        "print(len(pol_hum))\r\n",
        "print(len(sub_hum))\r\n",
        "print(len(pol_new))\r\n",
        "print(len(sub_new))\r\n",
        "\r\n",
        "\r\n"
      ],
      "execution_count": null,
      "outputs": [
        {
          "output_type": "stream",
          "text": [
            "1473\n",
            "1473\n",
            "2178\n",
            "2178\n"
          ],
          "name": "stdout"
        }
      ]
    },
    {
      "cell_type": "markdown",
      "metadata": {
        "id": "q11z_AYOcUPw"
      },
      "source": [
        "Q1 (A)"
      ]
    },
    {
      "cell_type": "code",
      "metadata": {
        "colab": {
          "base_uri": "https://localhost:8080/",
          "height": 313
        },
        "id": "3cM-QpnccSaf",
        "outputId": "5ff979e6-2942-4e47-9109-86f6637a29f6"
      },
      "source": [
        "mp.hist(pol_hum, bins = 10, color = 'r')\r\n",
        "mp.ylabel(\"Frequency count\")\r\n",
        "mp.xlabel(\"bucket size of polarity of humor_text\")\r\n",
        "mp.title(\"Plot of Polarity_humor_text \")\r\n",
        "\r\n"
      ],
      "execution_count": null,
      "outputs": [
        {
          "output_type": "execute_result",
          "data": {
            "text/plain": [
              "Text(0.5, 1.0, 'Plot of Polarity_humor_text ')"
            ]
          },
          "metadata": {
            "tags": []
          },
          "execution_count": 30
        },
        {
          "output_type": "display_data",
          "data": {
            "image/png": "[encoded data removed]",
            "text/plain": [
              "<Figure size 432x288 with 1 Axes>"
            ]
          },
          "metadata": {
            "tags": [],
            "needs_background": "light"
          }
        }
      ]
    },
    {
      "cell_type": "code",
      "metadata": {
        "colab": {
          "base_uri": "https://localhost:8080/",
          "height": 313
        },
        "id": "nTFeiW9ncae0",
        "outputId": "8069b35d-6730-495f-89c5-b0921190a6a4"
      },
      "source": [
        "mp.hist(pol_new, bins = 10, color = 'r')\r\n",
        "mp.ylabel(\"Frequency count\")\r\n",
        "mp.xlabel(\"bucket size of polarity of news_text\")\r\n",
        "mp.title(\"Plot of Polarity_news_text \")"
      ],
      "execution_count": null,
      "outputs": [
        {
          "output_type": "execute_result",
          "data": {
            "text/plain": [
              "Text(0.5, 1.0, 'Plot of Polarity_news_text ')"
            ]
          },
          "metadata": {
            "tags": []
          },
          "execution_count": 31
        },
        {
          "output_type": "display_data",
          "data": {
            "image/png": "[encoded data removed]",
            "text/plain": [
              "<Figure size 432x288 with 1 Axes>"
            ]
          },
          "metadata": {
            "tags": [],
            "needs_background": "light"
          }
        }
      ]
    },
    {
      "cell_type": "code",
      "metadata": {
        "colab": {
          "base_uri": "https://localhost:8080/",
          "height": 313
        },
        "id": "GcoDNoeqccXr",
        "outputId": "adbe9050-b30b-427f-9f63-94416ffc73fc"
      },
      "source": [
        "mp.hist(sub_hum, bins = 10, color = 'r')\r\n",
        "mp.ylabel(\"Frequency count\")\r\n",
        "mp.xlabel(\"bucket size of subjectivity of humor_text\")\r\n",
        "mp.title(\"Plot of subjectivity_humor_text \")"
      ],
      "execution_count": null,
      "outputs": [
        {
          "output_type": "execute_result",
          "data": {
            "text/plain": [
              "Text(0.5, 1.0, 'Plot of subjectivity_humor_text ')"
            ]
          },
          "metadata": {
            "tags": []
          },
          "execution_count": 32
        },
        {
          "output_type": "display_data",
          "data": {
            "image/png": "[encoded data removed]",
            "text/plain": [
              "<Figure size 432x288 with 1 Axes>"
            ]
          },
          "metadata": {
            "tags": [],
            "needs_background": "light"
          }
        }
      ]
    },
    {
      "cell_type": "code",
      "metadata": {
        "colab": {
          "base_uri": "https://localhost:8080/",
          "height": 313
        },
        "id": "YgtM2Ax3ceFK",
        "outputId": "43d321e0-ee83-4309-8642-37c82f950e7e"
      },
      "source": [
        "mp.hist(sub_new, bins = 10, color = 'r')\r\n",
        "mp.ylabel(\"Frequency count\")\r\n",
        "mp.xlabel(\"bucket size of subjectivity of news_text\")\r\n",
        "mp.title(\"Plot of subjectivity_news_text \")"
      ],
      "execution_count": null,
      "outputs": [
        {
          "output_type": "execute_result",
          "data": {
            "text/plain": [
              "Text(0.5, 1.0, 'Plot of subjectivity_news_text ')"
            ]
          },
          "metadata": {
            "tags": []
          },
          "execution_count": 33
        },
        {
          "output_type": "display_data",
          "data": {
            "image/png": "[encoded data removed]",
            "text/plain": [
              "<Figure size 432x288 with 1 Axes>"
            ]
          },
          "metadata": {
            "tags": [],
            "needs_background": "light"
          }
        }
      ]
    },
    {
      "cell_type": "markdown",
      "metadata": {
        "id": "i40wjAMCciN3"
      },
      "source": [
        "stats"
      ]
    },
    {
      "cell_type": "code",
      "metadata": {
        "colab": {
          "base_uri": "https://localhost:8080/"
        },
        "id": "5TjEZHmOcgGV",
        "outputId": "809c2d84-9fa0-4b0f-e16a-8b5ad21b9ecd"
      },
      "source": [
        "print(\"Mean of polarity humor \",np.mean(np.array(pol_hum)))\r\n",
        "print(\"Standard Deviation of polarity humor \",np.std(np.array(pol_hum)));\r\n",
        "\r\n",
        "print(\"Mean of polarity news is: \",np.mean(np.array(pol_new)))\r\n",
        "print(\"Standard Deviation of polarity news \",np.std(np.array(pol_new)));\r\n",
        "\r\n",
        "print(\"Mean of subjectivity humor \",np.mean(np.array(sub_hum)))\r\n",
        "print(\"Standard Deviation of subjectivity humor \",np.std(np.array(sub_hum)));\r\n",
        "\r\n",
        "print(\"Mean of subjectivity news \",np.mean(np.array(sub_new)))\r\n",
        "print(\"Standard Deviation of subjectivity news \",np.std(np.array(sub_new)));"
      ],
      "execution_count": null,
      "outputs": [
        {
          "output_type": "stream",
          "text": [
            "Mean of polarity humor  0.05158728575619279\n",
            "Standard Deviation of polarity humor  0.24866391452327927\n",
            "Mean of polarity news is:  0.064048534801197\n",
            "Standard Deviation of polarity news  0.23041556585535447\n",
            "Mean of subjectivity humor  0.47140332998753287\n",
            "Standard Deviation of subjectivity humor  0.24269324821277793\n",
            "Mean of subjectivity news  0.4704749753548112\n",
            "Standard Deviation of subjectivity news  0.23274569397299044\n"
          ],
          "name": "stdout"
        }
      ]
    },
    {
      "cell_type": "markdown",
      "metadata": {
        "id": "hu5qHijEcony"
      },
      "source": [
        "Q1 (B)"
      ]
    },
    {
      "cell_type": "code",
      "metadata": {
        "id": "zenwTN49cmUT"
      },
      "source": [
        "sw=stopwords.words('english')\r\n",
        "th = [i for i in nltk.word_tokenize(hum_t) if i not in sw]\r\n",
        "dic_hum_bi=nltk.FreqDist(nltk.bigrams(th)).most_common(10)\r\n",
        "dic_hum_uni=nltk.FreqDist(th).most_common(10)\r\n",
        "\r\n",
        "th = [i for i in nltk.word_tokenize(new_t) if i not in sw]\r\n",
        "dic_new_bi=nltk.FreqDist(nltk.bigrams(th)).most_common(10)\r\n",
        "dic_new_uni=nltk.FreqDist(th).most_common(10)\r\n",
        "\r\n",
        "hum_bi_c=[]\r\n",
        "hum_bi_t=[]\r\n",
        "for i in dic_hum_bi:\r\n",
        "  hum_bi_c.append(int(i[1]))\r\n",
        "  hum_bi_t.append(str(i[0]))\r\n",
        "\r\n",
        "new_bi_c=[]\r\n",
        "new_bi_t=[]\r\n",
        "for i in dic_new_bi:\r\n",
        "  new_bi_c.append(int(i[1]))\r\n",
        "  new_bi_t.append(str(i[0]))\r\n",
        "\r\n",
        "hum_uni_c=[]\r\n",
        "hum_uni_t=[]\r\n",
        "for i in dic_hum_uni:\r\n",
        "  hum_uni_c.append(int(i[1]))\r\n",
        "  hum_uni_t.append(str(i[0]))\r\n",
        "\r\n",
        "new_uni_c=[]\r\n",
        "new_uni_t=[]\r\n",
        "for i in dic_new_uni:\r\n",
        "  new_uni_c.append(int(i[1]))\r\n",
        "  new_uni_t.append(str(i[0]))\r\n",
        "\r\n",
        "\r\n"
      ],
      "execution_count": null,
      "outputs": []
    },
    {
      "cell_type": "code",
      "metadata": {
        "colab": {
          "base_uri": "https://localhost:8080/",
          "height": 350
        },
        "id": "XxZCn27Hcr8M",
        "outputId": "3cb835f1-1c55-4afe-f21d-b660d5b3e11f"
      },
      "source": [
        "mp.bar(hum_bi_t,hum_bi_c,color='r', align = 'center', alpha = 0.5)\r\n",
        "mp.xlabel('Bigram-pair')\r\n",
        "mp.ylabel('# of comments or frequency')\r\n",
        "# mp.xticks(l_sen)\r\n",
        "mp.xticks(rotation = 50)\r\n",
        "mp.title(\"Humor text bigram\")\r\n",
        "mp.show()"
      ],
      "execution_count": null,
      "outputs": [
        {
          "output_type": "display_data",
          "data": {
            "image/png": "[encoded data removed]",
            "text/plain": [
              "<Figure size 432x288 with 1 Axes>"
            ]
          },
          "metadata": {
            "tags": [],
            "needs_background": "light"
          }
        }
      ]
    },
    {
      "cell_type": "code",
      "metadata": {
        "colab": {
          "base_uri": "https://localhost:8080/",
          "height": 394
        },
        "id": "w7mwAhsUcuTV",
        "outputId": "2b65ce77-ff20-4459-d973-14c908af2f29"
      },
      "source": [
        "mp.bar(new_bi_t,new_bi_c,color='r', align = 'center', alpha = 0.5)\r\n",
        "mp.xlabel('Bigram-pair')\r\n",
        "mp.ylabel('# of comments or frequency')\r\n",
        "# mp.xticks(l_sen)\r\n",
        "mp.xticks(rotation = 50)\r\n",
        "mp.title(\"News text bigram\")\r\n",
        "mp.show()"
      ],
      "execution_count": null,
      "outputs": [
        {
          "output_type": "display_data",
          "data": {
            "image/png": "[encoded data removed]",
            "text/plain": [
              "<Figure size 432x288 with 1 Axes>"
            ]
          },
          "metadata": {
            "tags": [],
            "needs_background": "light"
          }
        }
      ]
    },
    {
      "cell_type": "code",
      "metadata": {
        "colab": {
          "base_uri": "https://localhost:8080/",
          "height": 318
        },
        "id": "cQRMk2yIcwQQ",
        "outputId": "3c4bcf10-2977-4005-fb0b-ae0a231d7a58"
      },
      "source": [
        "mp.bar(hum_uni_t,hum_uni_c,color='r', align = 'center', alpha = 0.5)\r\n",
        "mp.xlabel('Unigram')\r\n",
        "mp.ylabel('# of comments or frequency')\r\n",
        "# mp.xticks(l_sen)\r\n",
        "mp.xticks(rotation = 50)\r\n",
        "mp.title(\"Humor text unigram\")\r\n",
        "mp.show()"
      ],
      "execution_count": null,
      "outputs": [
        {
          "output_type": "display_data",
          "data": {
            "image/png": "[encoded data removed]",
            "text/plain": [
              "<Figure size 432x288 with 1 Axes>"
            ]
          },
          "metadata": {
            "tags": [],
            "needs_background": "light"
          }
        }
      ]
    },
    {
      "cell_type": "code",
      "metadata": {
        "colab": {
          "base_uri": "https://localhost:8080/",
          "height": 318
        },
        "id": "zopkMJXgcy8H",
        "outputId": "6fba0b9f-6058-4b5f-8ad5-e9a6cdcad7cc"
      },
      "source": [
        "mp.bar(new_uni_t,new_uni_c,color='r', align = 'center', alpha = 0.5)\r\n",
        "mp.xlabel('Unigram')\r\n",
        "mp.ylabel('# of comments or frequency')\r\n",
        "# mp.xticks(l_sen)\r\n",
        "mp.xticks(rotation = 50)\r\n",
        "mp.title(\"News text unigram\")\r\n",
        "mp.show()"
      ],
      "execution_count": null,
      "outputs": [
        {
          "output_type": "display_data",
          "data": {
            "image/png": "[encoded data removed]",
            "text/plain": [
              "<Figure size 432x288 with 1 Axes>"
            ]
          },
          "metadata": {
            "tags": [],
            "needs_background": "light"
          }
        }
      ]
    },
    {
      "cell_type": "markdown",
      "metadata": {
        "id": "JRE1nXjMc3dF"
      },
      "source": [
        "Q2"
      ]
    },
    {
      "cell_type": "code",
      "metadata": {
        "colab": {
          "base_uri": "https://localhost:8080/",
          "height": 195
        },
        "id": "m_bHwlnVc07j",
        "outputId": "41c4bb35-ce04-4e52-fca3-7c234f8270aa"
      },
      "source": [
        "  dis_pkl.head()"
      ],
      "execution_count": 83,
      "outputs": [
        {
          "output_type": "execute_result",
          "data": {
            "text/html": [
              "<div>\n",
              "<style scoped>\n",
              "    .dataframe tbody tr th:only-of-type {\n",
              "        vertical-align: middle;\n",
              "    }\n",
              "\n",
              "    .dataframe tbody tr th {\n",
              "        vertical-align: top;\n",
              "    }\n",
              "\n",
              "    .dataframe thead th {\n",
              "        text-align: right;\n",
              "    }\n",
              "</style>\n",
              "<table border=\"1\" class=\"dataframe\">\n",
              "  <thead>\n",
              "    <tr style=\"text-align: right;\">\n",
              "      <th></th>\n",
              "      <th>text</th>\n",
              "      <th>subreddit</th>\n",
              "    </tr>\n",
              "  </thead>\n",
              "  <tbody>\n",
              "    <tr>\n",
              "      <th>0</th>\n",
              "      <td>that sounds like the answer of a man who does ...</td>\n",
              "      <td>humor</td>\n",
              "    </tr>\n",
              "    <tr>\n",
              "      <th>1</th>\n",
              "      <td>i always wonder what people get out of reposti...</td>\n",
              "      <td>humor</td>\n",
              "    </tr>\n",
              "    <tr>\n",
              "      <th>2</th>\n",
              "      <td>fuck that  downvote them for stalking you in t...</td>\n",
              "      <td>humor</td>\n",
              "    </tr>\n",
              "    <tr>\n",
              "      <th>3</th>\n",
              "      <td>seeing as how much this has been around  and a...</td>\n",
              "      <td>humor</td>\n",
              "    </tr>\n",
              "    <tr>\n",
              "      <th>4</th>\n",
              "      <td>it took me a while to even get my legally requ...</td>\n",
              "      <td>humor</td>\n",
              "    </tr>\n",
              "  </tbody>\n",
              "</table>\n",
              "</div>"
            ],
            "text/plain": [
              "                                                text subreddit\n",
              "0  that sounds like the answer of a man who does ...     humor\n",
              "1  i always wonder what people get out of reposti...     humor\n",
              "2  fuck that  downvote them for stalking you in t...     humor\n",
              "3  seeing as how much this has been around  and a...     humor\n",
              "4  it took me a while to even get my legally requ...     humor"
            ]
          },
          "metadata": {
            "tags": []
          },
          "execution_count": 83
        }
      ]
    },
    {
      "cell_type": "code",
      "metadata": {
        "colab": {
          "base_uri": "https://localhost:8080/"
        },
        "id": "H8aku_tgc706",
        "outputId": "c791ed1a-69b5-46bc-d9ff-ef696ce5e9bb"
      },
      "source": [
        "dis_pkl.isnull().sum()"
      ],
      "execution_count": 84,
      "outputs": [
        {
          "output_type": "execute_result",
          "data": {
            "text/plain": [
              "text         0\n",
              "subreddit    0\n",
              "dtype: int64"
            ]
          },
          "metadata": {
            "tags": []
          },
          "execution_count": 84
        }
      ]
    },
    {
      "cell_type": "code",
      "metadata": {
        "id": "14ZkOKKjc9OC"
      },
      "source": [
        "bi_pkl=pd.get_dummies(dis_pkl['subreddit'], drop_first=True)"
      ],
      "execution_count": 85,
      "outputs": []
    },
    {
      "cell_type": "code",
      "metadata": {
        "colab": {
          "base_uri": "https://localhost:8080/",
          "height": 106
        },
        "id": "N--Vs_SIc_gY",
        "outputId": "40573615-fac6-4aa5-b46b-84d003acdc75"
      },
      "source": [
        "len(bi_pkl)\r\n",
        "con_pkl=pd.concat([dis_pkl,bi_pkl],axis=1)\r\n",
        "con_pkl.head(2)"
      ],
      "execution_count": 86,
      "outputs": [
        {
          "output_type": "execute_result",
          "data": {
            "text/html": [
              "<div>\n",
              "<style scoped>\n",
              "    .dataframe tbody tr th:only-of-type {\n",
              "        vertical-align: middle;\n",
              "    }\n",
              "\n",
              "    .dataframe tbody tr th {\n",
              "        vertical-align: top;\n",
              "    }\n",
              "\n",
              "    .dataframe thead th {\n",
              "        text-align: right;\n",
              "    }\n",
              "</style>\n",
              "<table border=\"1\" class=\"dataframe\">\n",
              "  <thead>\n",
              "    <tr style=\"text-align: right;\">\n",
              "      <th></th>\n",
              "      <th>text</th>\n",
              "      <th>subreddit</th>\n",
              "      <th>news</th>\n",
              "    </tr>\n",
              "  </thead>\n",
              "  <tbody>\n",
              "    <tr>\n",
              "      <th>0</th>\n",
              "      <td>that sounds like the answer of a man who does ...</td>\n",
              "      <td>humor</td>\n",
              "      <td>0</td>\n",
              "    </tr>\n",
              "    <tr>\n",
              "      <th>1</th>\n",
              "      <td>i always wonder what people get out of reposti...</td>\n",
              "      <td>humor</td>\n",
              "      <td>0</td>\n",
              "    </tr>\n",
              "  </tbody>\n",
              "</table>\n",
              "</div>"
            ],
            "text/plain": [
              "                                                text subreddit  news\n",
              "0  that sounds like the answer of a man who does ...     humor     0\n",
              "1  i always wonder what people get out of reposti...     humor     0"
            ]
          },
          "metadata": {
            "tags": []
          },
          "execution_count": 86
        }
      ]
    },
    {
      "cell_type": "code",
      "metadata": {
        "id": "7qwgtChBdA-w"
      },
      "source": [
        "con_pkl.drop(['subreddit'],axis=1, inplace=True)"
      ],
      "execution_count": 87,
      "outputs": []
    },
    {
      "cell_type": "code",
      "metadata": {
        "colab": {
          "base_uri": "https://localhost:8080/"
        },
        "id": "4cv3lspsdDMW",
        "outputId": "b344f3e8-e5d4-4add-c371-9829c02f7286"
      },
      "source": [
        "print(np.bincount(con_pkl['news']))\r\n",
        "con_pkl.head()\r\n",
        "x=con_pkl['text']\r\n",
        "y=con_pkl['news']"
      ],
      "execution_count": 88,
      "outputs": [
        {
          "output_type": "stream",
          "text": [
            "[1473 2178]\n"
          ],
          "name": "stdout"
        }
      ]
    },
    {
      "cell_type": "code",
      "metadata": {
        "colab": {
          "base_uri": "https://localhost:8080/"
        },
        "id": "dhQoFj3mdEoy",
        "outputId": "a5f1da13-1669-49d1-eddf-1aa7b172a84b"
      },
      "source": [
        "x_tr, x_te, y_tr, y_te = train_test_split(x,y,test_size=.3, random_state=1)\r\n",
        "print(x_tr.shape, x_te.shape, y_tr.shape, y_te.shape)"
      ],
      "execution_count": 89,
      "outputs": [
        {
          "output_type": "stream",
          "text": [
            "(2555,) (1096,) (2555,) (1096,)\n"
          ],
          "name": "stdout"
        }
      ]
    },
    {
      "cell_type": "code",
      "metadata": {
        "id": "5L6rmq84dGlR"
      },
      "source": [
        "xt=x_te\r\n",
        "vect = CountVectorizer()\r\n",
        "x_tr= vect.fit_transform(x_tr)\r\n",
        "x_te = vect.transform(x_te)\r\n",
        "\r\n"
      ],
      "execution_count": 90,
      "outputs": []
    },
    {
      "cell_type": "code",
      "metadata": {
        "colab": {
          "base_uri": "https://localhost:8080/"
        },
        "id": "lwt0W6wddIDO",
        "outputId": "4b7d0a6d-50bb-4883-b657-3244fef53ee4"
      },
      "source": [
        "feat_names = vect.get_feature_names()\r\n",
        "len(feat_names)"
      ],
      "execution_count": 91,
      "outputs": [
        {
          "output_type": "execute_result",
          "data": {
            "text/plain": [
              "10699"
            ]
          },
          "metadata": {
            "tags": []
          },
          "execution_count": 91
        }
      ]
    },
    {
      "cell_type": "code",
      "metadata": {
        "colab": {
          "base_uri": "https://localhost:8080/"
        },
        "id": "M0qUL4I0dJnr",
        "outputId": "1f6e9a3f-62e5-4197-8694-f39773958e5d"
      },
      "source": [
        "naive_base = MultinomialNB()\r\n",
        "naive_base.fit(x_tr, y_tr)\r\n",
        "print(\"train data accuracy\")\r\n",
        "print(naive_base.score(x_tr, y_tr))\r\n",
        "print(\"test data accuracy\")\r\n",
        "print(naive_base.score(x_te, y_te))"
      ],
      "execution_count": 92,
      "outputs": [
        {
          "output_type": "stream",
          "text": [
            "train data accuracy\n",
            "0.9620352250489237\n",
            "test data accuracy\n",
            "0.8156934306569343\n"
          ],
          "name": "stdout"
        }
      ]
    },
    {
      "cell_type": "code",
      "metadata": {
        "id": "4rXMjC3xdZ79"
      },
      "source": [
        "pickle.dump(naive_base, open('pickle.sav', 'wb'))\r\n",
        "naive_base = pickle.load(open('pickle.sav', 'rb'))"
      ],
      "execution_count": 93,
      "outputs": []
    },
    {
      "cell_type": "code",
      "metadata": {
        "colab": {
          "base_uri": "https://localhost:8080/"
        },
        "id": "gk6nNL7Jdci5",
        "outputId": "759155d5-384f-40cd-8673-07cb5d121be3"
      },
      "source": [
        "confusion_matrix(y_te, naive_base.predict(x_te))\r\n"
      ],
      "execution_count": 94,
      "outputs": [
        {
          "output_type": "execute_result",
          "data": {
            "text/plain": [
              "array([[331, 136],\n",
              "       [ 66, 563]])"
            ]
          },
          "metadata": {
            "tags": []
          },
          "execution_count": 94
        }
      ]
    },
    {
      "cell_type": "code",
      "metadata": {
        "id": "embgrG2VThNo"
      },
      "source": [
        "xt= xt.to_numpy()"
      ],
      "execution_count": 95,
      "outputs": []
    },
    {
      "cell_type": "code",
      "metadata": {
        "colab": {
          "base_uri": "https://localhost:8080/"
        },
        "id": "Jd-pCxYjPm82",
        "outputId": "5c3278cd-cd0f-4d9b-dcda-5280f5cab627"
      },
      "source": [
        "\r\n",
        "\r\n",
        "pos=[]\r\n",
        "neg=[]\r\n",
        "pred=naive_base.predict(x_te)\r\n",
        "for i in range(len(pred)):\r\n",
        "  if(np.array(y_te)[i]==pred[i]):\r\n",
        "    pos.append(xt[i])\r\n",
        "  else:\r\n",
        "    neg.append(xt[i])\r\n",
        "print(\"Well predicted text\")\r\n",
        "print(pos[0])\r\n",
        "print(pos[1])\r\n",
        "print(pos[2])\r\n",
        "print(pos[3])\r\n",
        "print(pos[4])\r\n",
        "print()\r\n",
        "print(\"Wrong predicted text\")\r\n",
        "print(neg[0])\r\n",
        "print(neg[1])\r\n",
        "print(neg[2])\r\n",
        "print(neg[3])\r\n",
        "print(neg[4])\r\n",
        "# # pred[0]"
      ],
      "execution_count": 99,
      "outputs": [
        {
          "output_type": "stream",
          "text": [
            "Well predicted text\n",
            "generally speaking  i m an asshole that being said  i am profoundly nice to customer service reps whenever i have to call a call center for anything  my primary objective is to get them to have an actual conversation with me the reason i called is secondary  it ll be handled anyway \n",
            "my husband would have done the exact same thing you keep pulling shit like that  your wife wo nt try to do anything sexy anymore \n",
            "i will go out of my way to transfer you to make a second 40 minute car journey to come back for a refund \n",
            "maybe the bird is a really tough ski coach   you call that skiing    smack smack beakpoke   get up  get up and work those poles    i do nt actually ski so i m having a hard time coming up with proper sounding ski tips so i ll just keep trying   swish those goddamn hips like you mean it  smash that snow    i think i m not very good at this \n",
            "this war on cash is such bullshit  people carried cash until 12 years ago and it was perfectly fine  now they are trying to restrict flying with cash  purchasing with cash  seizing cash   the only problem is that the money is due on one day  they need to have the tax office take payment on any day of the week  so it s stacked \n",
            "\n",
            "Wrong predicted text\n",
            "most importantly  inventory does nt track preferences  almost as important  stocktaking only tells you about the past  whereas prices tell you about the present and people s beliefs about the future \n",
            "a railroad engineer must be sure not to lose his train of thought or he might go down the wrong track \n",
            "he is not following an antiquated convention that no one gives two shits about  that guy is no gentleman but an asshole \n",
            "i had cox for 3 years service was good  and over that 3 years  doubled my download speeds twice no extra cost upload was still garbage  but hey 10015 internet for  65 a month was still pretty killer i have 7575 fios now \n",
            "damnit  i misunderstood the joke at first and tried counting the words he could say per year  at first  i was like  pft  no punchline here  wordcount is different  then i backread fail\n"
          ],
          "name": "stdout"
        }
      ]
    },
    {
      "cell_type": "code",
      "metadata": {
        "colab": {
          "base_uri": "https://localhost:8080/",
          "height": 86
        },
        "id": "prPLFsZOdfYo",
        "outputId": "8046939f-db40-490d-d2d2-93911758eeb2"
      },
      "source": [
        "classification_report(y_te,naive_base.predict(x_te) )"
      ],
      "execution_count": null,
      "outputs": [
        {
          "output_type": "execute_result",
          "data": {
            "application/vnd.google.colaboratory.intrinsic+json": {
              "type": "string"
            },
            "text/plain": [
              "'              precision    recall  f1-score   support\\n\\n           0       0.83      0.71      0.77       467\\n           1       0.81      0.90      0.85       629\\n\\n    accuracy                           0.82      1096\\n   macro avg       0.82      0.80      0.81      1096\\nweighted avg       0.82      0.82      0.81      1096\\n'"
            ]
          },
          "metadata": {
            "tags": []
          },
          "execution_count": 29
        }
      ]
    },
    {
      "cell_type": "code",
      "metadata": {
        "id": "OIz94sFXdhQ8"
      },
      "source": [
        ""
      ],
      "execution_count": null,
      "outputs": []
    }
  ]
}